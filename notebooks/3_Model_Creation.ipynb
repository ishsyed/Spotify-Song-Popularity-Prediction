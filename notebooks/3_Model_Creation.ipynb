{
 "cells": [
  {
   "attachments": {},
   "cell_type": "markdown",
   "metadata": {},
   "source": [
    "# Spotify song popularity prediction - Model Creation"
   ]
  },
  {
   "cell_type": "code",
   "execution_count": 14,
   "metadata": {},
   "outputs": [],
   "source": [
    "# Importing all the necessary packages and libraries\n",
    "import pandas as pd\n",
    "import numpy as np\n",
    "import matplotlib.pyplot as plt\n",
    "import seaborn as sns\n",
    "import statsmodels.api as sm\n",
    "from statsmodels.stats.outliers_influence import variance_inflation_factor\n",
    "from sklearn.preprocessing import StandardScaler, LabelEncoder, OneHotEncoder\n",
    "from sklearn.feature_selection import RFE\n",
    "from sklearn.linear_model import LogisticRegression\n",
    "from sklearn.model_selection import train_test_split\n",
    "from sklearn.metrics import r2_score, mean_absolute_error, mean_squared_error, fbeta_score, precision_score, recall_score\n",
    "import warnings\n",
    "warnings.filterwarnings('ignore')\n",
    "import datetime as dt\n",
    "from sklearn.model_selection import GridSearchCV\n",
    "from imblearn.over_sampling import ADASYN\n",
    "from collections import Counter\n",
    "from sklearn.ensemble import RandomForestClassifier\n",
    "from catboost import CatBoostClassifier\n",
    "from sklearn.ensemble import AdaBoostClassifier\n",
    "from sklearn.tree import DecisionTreeClassifier\n",
    "from xgboost import XGBClassifier\n",
    "from sklearn.metrics import classification_report, confusion_matrix, roc_curve, roc_auc_score, f1_score, pair_confusion_matrix, accuracy_score\n",
    "import pickle as pkl\n",
    "from sklearn.utils.class_weight import compute_class_weight"
   ]
  },
  {
   "cell_type": "code",
   "execution_count": 15,
   "metadata": {},
   "outputs": [],
   "source": [
    "spotify_data = pd.read_csv('spotify_data.csv', index_col=0)"
   ]
  },
  {
   "attachments": {},
   "cell_type": "markdown",
   "metadata": {},
   "source": [
    "### 1. Data Exploration"
   ]
  },
  {
   "cell_type": "code",
   "execution_count": 16,
   "metadata": {},
   "outputs": [],
   "source": [
    "spotify_data = spotify_data[spotify_data['popularity']!=0]"
   ]
  },
  {
   "cell_type": "code",
   "execution_count": 17,
   "metadata": {},
   "outputs": [
    {
     "data": {
      "text/html": [
       "<div>\n",
       "<style scoped>\n",
       "    .dataframe tbody tr th:only-of-type {\n",
       "        vertical-align: middle;\n",
       "    }\n",
       "\n",
       "    .dataframe tbody tr th {\n",
       "        vertical-align: top;\n",
       "    }\n",
       "\n",
       "    .dataframe thead th {\n",
       "        text-align: right;\n",
       "    }\n",
       "</style>\n",
       "<table border=\"1\" class=\"dataframe\">\n",
       "  <thead>\n",
       "    <tr style=\"text-align: right;\">\n",
       "      <th></th>\n",
       "      <th>artist_name</th>\n",
       "      <th>track_name</th>\n",
       "      <th>track_id</th>\n",
       "      <th>popularity</th>\n",
       "      <th>year</th>\n",
       "      <th>genre</th>\n",
       "      <th>danceability</th>\n",
       "      <th>energy</th>\n",
       "      <th>key</th>\n",
       "      <th>loudness</th>\n",
       "      <th>mode</th>\n",
       "      <th>speechiness</th>\n",
       "      <th>acousticness</th>\n",
       "      <th>instrumentalness</th>\n",
       "      <th>liveness</th>\n",
       "      <th>valence</th>\n",
       "      <th>tempo</th>\n",
       "      <th>duration_ms</th>\n",
       "      <th>time_signature</th>\n",
       "    </tr>\n",
       "  </thead>\n",
       "  <tbody>\n",
       "    <tr>\n",
       "      <th>0</th>\n",
       "      <td>Jason Mraz</td>\n",
       "      <td>I Won't Give Up</td>\n",
       "      <td>53QF56cjZA9RTuuMZDrSA6</td>\n",
       "      <td>68</td>\n",
       "      <td>2012</td>\n",
       "      <td>acoustic</td>\n",
       "      <td>0.483</td>\n",
       "      <td>0.303</td>\n",
       "      <td>4</td>\n",
       "      <td>-10.058</td>\n",
       "      <td>1</td>\n",
       "      <td>0.0429</td>\n",
       "      <td>0.6940</td>\n",
       "      <td>0.000000</td>\n",
       "      <td>0.1150</td>\n",
       "      <td>0.139</td>\n",
       "      <td>133.406</td>\n",
       "      <td>240166</td>\n",
       "      <td>3</td>\n",
       "    </tr>\n",
       "    <tr>\n",
       "      <th>1</th>\n",
       "      <td>Jason Mraz</td>\n",
       "      <td>93 Million Miles</td>\n",
       "      <td>1s8tP3jP4GZcyHDsjvw218</td>\n",
       "      <td>50</td>\n",
       "      <td>2012</td>\n",
       "      <td>acoustic</td>\n",
       "      <td>0.572</td>\n",
       "      <td>0.454</td>\n",
       "      <td>3</td>\n",
       "      <td>-10.286</td>\n",
       "      <td>1</td>\n",
       "      <td>0.0258</td>\n",
       "      <td>0.4770</td>\n",
       "      <td>0.000014</td>\n",
       "      <td>0.0974</td>\n",
       "      <td>0.515</td>\n",
       "      <td>140.182</td>\n",
       "      <td>216387</td>\n",
       "      <td>4</td>\n",
       "    </tr>\n",
       "    <tr>\n",
       "      <th>2</th>\n",
       "      <td>Joshua Hyslop</td>\n",
       "      <td>Do Not Let Me Go</td>\n",
       "      <td>7BRCa8MPiyuvr2VU3O9W0F</td>\n",
       "      <td>57</td>\n",
       "      <td>2012</td>\n",
       "      <td>acoustic</td>\n",
       "      <td>0.409</td>\n",
       "      <td>0.234</td>\n",
       "      <td>3</td>\n",
       "      <td>-13.711</td>\n",
       "      <td>1</td>\n",
       "      <td>0.0323</td>\n",
       "      <td>0.3380</td>\n",
       "      <td>0.000050</td>\n",
       "      <td>0.0895</td>\n",
       "      <td>0.145</td>\n",
       "      <td>139.832</td>\n",
       "      <td>158960</td>\n",
       "      <td>4</td>\n",
       "    </tr>\n",
       "    <tr>\n",
       "      <th>3</th>\n",
       "      <td>Boyce Avenue</td>\n",
       "      <td>Fast Car</td>\n",
       "      <td>63wsZUhUZLlh1OsyrZq7sz</td>\n",
       "      <td>58</td>\n",
       "      <td>2012</td>\n",
       "      <td>acoustic</td>\n",
       "      <td>0.392</td>\n",
       "      <td>0.251</td>\n",
       "      <td>10</td>\n",
       "      <td>-9.845</td>\n",
       "      <td>1</td>\n",
       "      <td>0.0363</td>\n",
       "      <td>0.8070</td>\n",
       "      <td>0.000000</td>\n",
       "      <td>0.0797</td>\n",
       "      <td>0.508</td>\n",
       "      <td>204.961</td>\n",
       "      <td>304293</td>\n",
       "      <td>4</td>\n",
       "    </tr>\n",
       "    <tr>\n",
       "      <th>4</th>\n",
       "      <td>Andrew Belle</td>\n",
       "      <td>Sky's Still Blue</td>\n",
       "      <td>6nXIYClvJAfi6ujLiKqEq8</td>\n",
       "      <td>54</td>\n",
       "      <td>2012</td>\n",
       "      <td>acoustic</td>\n",
       "      <td>0.430</td>\n",
       "      <td>0.791</td>\n",
       "      <td>6</td>\n",
       "      <td>-5.419</td>\n",
       "      <td>0</td>\n",
       "      <td>0.0302</td>\n",
       "      <td>0.0726</td>\n",
       "      <td>0.019300</td>\n",
       "      <td>0.1100</td>\n",
       "      <td>0.217</td>\n",
       "      <td>171.864</td>\n",
       "      <td>244320</td>\n",
       "      <td>4</td>\n",
       "    </tr>\n",
       "  </tbody>\n",
       "</table>\n",
       "</div>"
      ],
      "text/plain": [
       "     artist_name        track_name                track_id  popularity  year  \\\n",
       "0     Jason Mraz   I Won't Give Up  53QF56cjZA9RTuuMZDrSA6          68  2012   \n",
       "1     Jason Mraz  93 Million Miles  1s8tP3jP4GZcyHDsjvw218          50  2012   \n",
       "2  Joshua Hyslop  Do Not Let Me Go  7BRCa8MPiyuvr2VU3O9W0F          57  2012   \n",
       "3   Boyce Avenue          Fast Car  63wsZUhUZLlh1OsyrZq7sz          58  2012   \n",
       "4   Andrew Belle  Sky's Still Blue  6nXIYClvJAfi6ujLiKqEq8          54  2012   \n",
       "\n",
       "      genre  danceability  energy  key  loudness  mode  speechiness  \\\n",
       "0  acoustic         0.483   0.303    4   -10.058     1       0.0429   \n",
       "1  acoustic         0.572   0.454    3   -10.286     1       0.0258   \n",
       "2  acoustic         0.409   0.234    3   -13.711     1       0.0323   \n",
       "3  acoustic         0.392   0.251   10    -9.845     1       0.0363   \n",
       "4  acoustic         0.430   0.791    6    -5.419     0       0.0302   \n",
       "\n",
       "   acousticness  instrumentalness  liveness  valence    tempo  duration_ms  \\\n",
       "0        0.6940          0.000000    0.1150    0.139  133.406       240166   \n",
       "1        0.4770          0.000014    0.0974    0.515  140.182       216387   \n",
       "2        0.3380          0.000050    0.0895    0.145  139.832       158960   \n",
       "3        0.8070          0.000000    0.0797    0.508  204.961       304293   \n",
       "4        0.0726          0.019300    0.1100    0.217  171.864       244320   \n",
       "\n",
       "   time_signature  \n",
       "0               3  \n",
       "1               4  \n",
       "2               4  \n",
       "3               4  \n",
       "4               4  "
      ]
     },
     "execution_count": 17,
     "metadata": {},
     "output_type": "execute_result"
    }
   ],
   "source": [
    "spotify_data.head()"
   ]
  },
  {
   "cell_type": "code",
   "execution_count": 18,
   "metadata": {},
   "outputs": [
    {
     "data": {
      "text/html": [
       "<div>\n",
       "<style scoped>\n",
       "    .dataframe tbody tr th:only-of-type {\n",
       "        vertical-align: middle;\n",
       "    }\n",
       "\n",
       "    .dataframe tbody tr th {\n",
       "        vertical-align: top;\n",
       "    }\n",
       "\n",
       "    .dataframe thead th {\n",
       "        text-align: right;\n",
       "    }\n",
       "</style>\n",
       "<table border=\"1\" class=\"dataframe\">\n",
       "  <thead>\n",
       "    <tr style=\"text-align: right;\">\n",
       "      <th></th>\n",
       "      <th>popularity</th>\n",
       "      <th>year</th>\n",
       "      <th>danceability</th>\n",
       "      <th>energy</th>\n",
       "      <th>key</th>\n",
       "      <th>loudness</th>\n",
       "      <th>mode</th>\n",
       "      <th>speechiness</th>\n",
       "      <th>acousticness</th>\n",
       "      <th>instrumentalness</th>\n",
       "      <th>liveness</th>\n",
       "      <th>valence</th>\n",
       "      <th>tempo</th>\n",
       "      <th>duration_ms</th>\n",
       "      <th>time_signature</th>\n",
       "    </tr>\n",
       "  </thead>\n",
       "  <tbody>\n",
       "    <tr>\n",
       "      <th>count</th>\n",
       "      <td>1.001373e+06</td>\n",
       "      <td>1.001373e+06</td>\n",
       "      <td>1.001373e+06</td>\n",
       "      <td>1.001373e+06</td>\n",
       "      <td>1.001373e+06</td>\n",
       "      <td>1.001373e+06</td>\n",
       "      <td>1.001373e+06</td>\n",
       "      <td>1.001373e+06</td>\n",
       "      <td>1.001373e+06</td>\n",
       "      <td>1.001373e+06</td>\n",
       "      <td>1.001373e+06</td>\n",
       "      <td>1.001373e+06</td>\n",
       "      <td>1.001373e+06</td>\n",
       "      <td>1.001373e+06</td>\n",
       "      <td>1.001373e+06</td>\n",
       "    </tr>\n",
       "    <tr>\n",
       "      <th>mean</th>\n",
       "      <td>2.129085e+01</td>\n",
       "      <td>2.012402e+03</td>\n",
       "      <td>5.363992e-01</td>\n",
       "      <td>6.428674e-01</td>\n",
       "      <td>5.281454e+00</td>\n",
       "      <td>-8.830127e+00</td>\n",
       "      <td>6.349272e-01</td>\n",
       "      <td>9.340289e-02</td>\n",
       "      <td>3.153963e-01</td>\n",
       "      <td>2.408593e-01</td>\n",
       "      <td>2.241756e-01</td>\n",
       "      <td>4.522004e-01</td>\n",
       "      <td>1.214418e+02</td>\n",
       "      <td>2.460179e+05</td>\n",
       "      <td>3.889541e+00</td>\n",
       "    </tr>\n",
       "    <tr>\n",
       "      <th>std</th>\n",
       "      <td>1.517754e+01</td>\n",
       "      <td>6.731271e+00</td>\n",
       "      <td>1.831011e-01</td>\n",
       "      <td>2.683754e-01</td>\n",
       "      <td>3.556199e+00</td>\n",
       "      <td>5.642178e+00</td>\n",
       "      <td>4.814508e-01</td>\n",
       "      <td>1.295901e-01</td>\n",
       "      <td>3.488115e-01</td>\n",
       "      <td>3.600826e-01</td>\n",
       "      <td>2.029890e-01</td>\n",
       "      <td>2.671552e-01</td>\n",
       "      <td>2.998246e+01</td>\n",
       "      <td>1.393387e+05</td>\n",
       "      <td>4.554628e-01</td>\n",
       "    </tr>\n",
       "    <tr>\n",
       "      <th>min</th>\n",
       "      <td>1.000000e+00</td>\n",
       "      <td>2.000000e+03</td>\n",
       "      <td>0.000000e+00</td>\n",
       "      <td>0.000000e+00</td>\n",
       "      <td>0.000000e+00</td>\n",
       "      <td>-5.810000e+01</td>\n",
       "      <td>0.000000e+00</td>\n",
       "      <td>0.000000e+00</td>\n",
       "      <td>0.000000e+00</td>\n",
       "      <td>0.000000e+00</td>\n",
       "      <td>0.000000e+00</td>\n",
       "      <td>0.000000e+00</td>\n",
       "      <td>0.000000e+00</td>\n",
       "      <td>5.661000e+03</td>\n",
       "      <td>0.000000e+00</td>\n",
       "    </tr>\n",
       "    <tr>\n",
       "      <th>25%</th>\n",
       "      <td>9.000000e+00</td>\n",
       "      <td>2.007000e+03</td>\n",
       "      <td>4.140000e-01</td>\n",
       "      <td>4.610000e-01</td>\n",
       "      <td>2.000000e+00</td>\n",
       "      <td>-1.057800e+01</td>\n",
       "      <td>0.000000e+00</td>\n",
       "      <td>3.670000e-02</td>\n",
       "      <td>7.110000e-03</td>\n",
       "      <td>0.000000e+00</td>\n",
       "      <td>9.840000e-02</td>\n",
       "      <td>2.250000e-01</td>\n",
       "      <td>9.823200e+01</td>\n",
       "      <td>1.817070e+05</td>\n",
       "      <td>4.000000e+00</td>\n",
       "    </tr>\n",
       "    <tr>\n",
       "      <th>50%</th>\n",
       "      <td>1.800000e+01</td>\n",
       "      <td>2.013000e+03</td>\n",
       "      <td>5.490000e-01</td>\n",
       "      <td>6.970000e-01</td>\n",
       "      <td>5.000000e+00</td>\n",
       "      <td>-7.288000e+00</td>\n",
       "      <td>1.000000e+00</td>\n",
       "      <td>5.000000e-02</td>\n",
       "      <td>1.460000e-01</td>\n",
       "      <td>1.150000e-03</td>\n",
       "      <td>1.340000e-01</td>\n",
       "      <td>4.330000e-01</td>\n",
       "      <td>1.210800e+02</td>\n",
       "      <td>2.246290e+05</td>\n",
       "      <td>4.000000e+00</td>\n",
       "    </tr>\n",
       "    <tr>\n",
       "      <th>75%</th>\n",
       "      <td>3.100000e+01</td>\n",
       "      <td>2.018000e+03</td>\n",
       "      <td>6.740000e-01</td>\n",
       "      <td>8.730000e-01</td>\n",
       "      <td>8.000000e+00</td>\n",
       "      <td>-5.194000e+00</td>\n",
       "      <td>1.000000e+00</td>\n",
       "      <td>8.890000e-02</td>\n",
       "      <td>6.180000e-01</td>\n",
       "      <td>5.520000e-01</td>\n",
       "      <td>2.920000e-01</td>\n",
       "      <td>6.680000e-01</td>\n",
       "      <td>1.399860e+02</td>\n",
       "      <td>2.813070e+05</td>\n",
       "      <td>4.000000e+00</td>\n",
       "    </tr>\n",
       "    <tr>\n",
       "      <th>max</th>\n",
       "      <td>1.000000e+02</td>\n",
       "      <td>2.023000e+03</td>\n",
       "      <td>9.930000e-01</td>\n",
       "      <td>1.000000e+00</td>\n",
       "      <td>1.100000e+01</td>\n",
       "      <td>6.172000e+00</td>\n",
       "      <td>1.000000e+00</td>\n",
       "      <td>9.700000e-01</td>\n",
       "      <td>9.960000e-01</td>\n",
       "      <td>1.000000e+00</td>\n",
       "      <td>1.000000e+00</td>\n",
       "      <td>1.000000e+00</td>\n",
       "      <td>2.497920e+02</td>\n",
       "      <td>6.000495e+06</td>\n",
       "      <td>5.000000e+00</td>\n",
       "    </tr>\n",
       "  </tbody>\n",
       "</table>\n",
       "</div>"
      ],
      "text/plain": [
       "         popularity          year  danceability        energy           key  \\\n",
       "count  1.001373e+06  1.001373e+06  1.001373e+06  1.001373e+06  1.001373e+06   \n",
       "mean   2.129085e+01  2.012402e+03  5.363992e-01  6.428674e-01  5.281454e+00   \n",
       "std    1.517754e+01  6.731271e+00  1.831011e-01  2.683754e-01  3.556199e+00   \n",
       "min    1.000000e+00  2.000000e+03  0.000000e+00  0.000000e+00  0.000000e+00   \n",
       "25%    9.000000e+00  2.007000e+03  4.140000e-01  4.610000e-01  2.000000e+00   \n",
       "50%    1.800000e+01  2.013000e+03  5.490000e-01  6.970000e-01  5.000000e+00   \n",
       "75%    3.100000e+01  2.018000e+03  6.740000e-01  8.730000e-01  8.000000e+00   \n",
       "max    1.000000e+02  2.023000e+03  9.930000e-01  1.000000e+00  1.100000e+01   \n",
       "\n",
       "           loudness          mode   speechiness  acousticness  \\\n",
       "count  1.001373e+06  1.001373e+06  1.001373e+06  1.001373e+06   \n",
       "mean  -8.830127e+00  6.349272e-01  9.340289e-02  3.153963e-01   \n",
       "std    5.642178e+00  4.814508e-01  1.295901e-01  3.488115e-01   \n",
       "min   -5.810000e+01  0.000000e+00  0.000000e+00  0.000000e+00   \n",
       "25%   -1.057800e+01  0.000000e+00  3.670000e-02  7.110000e-03   \n",
       "50%   -7.288000e+00  1.000000e+00  5.000000e-02  1.460000e-01   \n",
       "75%   -5.194000e+00  1.000000e+00  8.890000e-02  6.180000e-01   \n",
       "max    6.172000e+00  1.000000e+00  9.700000e-01  9.960000e-01   \n",
       "\n",
       "       instrumentalness      liveness       valence         tempo  \\\n",
       "count      1.001373e+06  1.001373e+06  1.001373e+06  1.001373e+06   \n",
       "mean       2.408593e-01  2.241756e-01  4.522004e-01  1.214418e+02   \n",
       "std        3.600826e-01  2.029890e-01  2.671552e-01  2.998246e+01   \n",
       "min        0.000000e+00  0.000000e+00  0.000000e+00  0.000000e+00   \n",
       "25%        0.000000e+00  9.840000e-02  2.250000e-01  9.823200e+01   \n",
       "50%        1.150000e-03  1.340000e-01  4.330000e-01  1.210800e+02   \n",
       "75%        5.520000e-01  2.920000e-01  6.680000e-01  1.399860e+02   \n",
       "max        1.000000e+00  1.000000e+00  1.000000e+00  2.497920e+02   \n",
       "\n",
       "        duration_ms  time_signature  \n",
       "count  1.001373e+06    1.001373e+06  \n",
       "mean   2.460179e+05    3.889541e+00  \n",
       "std    1.393387e+05    4.554628e-01  \n",
       "min    5.661000e+03    0.000000e+00  \n",
       "25%    1.817070e+05    4.000000e+00  \n",
       "50%    2.246290e+05    4.000000e+00  \n",
       "75%    2.813070e+05    4.000000e+00  \n",
       "max    6.000495e+06    5.000000e+00  "
      ]
     },
     "execution_count": 18,
     "metadata": {},
     "output_type": "execute_result"
    }
   ],
   "source": [
    "spotify_data.describe()"
   ]
  },
  {
   "cell_type": "code",
   "execution_count": 19,
   "metadata": {},
   "outputs": [
    {
     "data": {
      "text/plain": [
       "2012    47820\n",
       "2013    46686\n",
       "2014    47350\n",
       "2015    46760\n",
       "2016    37358\n",
       "2017    51901\n",
       "2018    52529\n",
       "2019    52672\n",
       "2020    51806\n",
       "2021    50874\n",
       "2022    51541\n",
       "2023    31600\n",
       "2000    33341\n",
       "2001    32658\n",
       "2002    32875\n",
       "2003    33428\n",
       "2004    34281\n",
       "2005    35694\n",
       "2006    36588\n",
       "2007    37234\n",
       "2008    38007\n",
       "2009    38928\n",
       "2010    39783\n",
       "2011    39659\n",
       "Name: year, dtype: int64"
      ]
     },
     "execution_count": 19,
     "metadata": {},
     "output_type": "execute_result"
    }
   ],
   "source": [
    "spotify_data.year.value_counts(sort=False)"
   ]
  },
  {
   "cell_type": "code",
   "execution_count": 20,
   "metadata": {},
   "outputs": [
    {
     "data": {
      "text/plain": [
       "artist_name         0\n",
       "track_name          0\n",
       "track_id            0\n",
       "popularity          0\n",
       "year                0\n",
       "genre               0\n",
       "danceability        0\n",
       "energy              0\n",
       "key                 0\n",
       "loudness            0\n",
       "mode                0\n",
       "speechiness         0\n",
       "acousticness        0\n",
       "instrumentalness    0\n",
       "liveness            0\n",
       "valence             0\n",
       "tempo               0\n",
       "duration_ms         0\n",
       "time_signature      0\n",
       "dtype: int64"
      ]
     },
     "execution_count": 20,
     "metadata": {},
     "output_type": "execute_result"
    }
   ],
   "source": [
    "# Check for null or na values if any\n",
    "\n",
    "spotify_data.isna().sum()"
   ]
  },
  {
   "attachments": {},
   "cell_type": "markdown",
   "metadata": {},
   "source": [
    "##### <p>Now, there are no null or na values. We can check for duplicate values if any </p>"
   ]
  },
  {
   "cell_type": "code",
   "execution_count": 21,
   "metadata": {},
   "outputs": [
    {
     "data": {
      "text/plain": [
       "0"
      ]
     },
     "execution_count": 21,
     "metadata": {},
     "output_type": "execute_result"
    }
   ],
   "source": [
    "spotify_data.duplicated().sum()"
   ]
  },
  {
   "cell_type": "code",
   "execution_count": 22,
   "metadata": {},
   "outputs": [
    {
     "data": {
      "text/html": [
       "<div>\n",
       "<style scoped>\n",
       "    .dataframe tbody tr th:only-of-type {\n",
       "        vertical-align: middle;\n",
       "    }\n",
       "\n",
       "    .dataframe tbody tr th {\n",
       "        vertical-align: top;\n",
       "    }\n",
       "\n",
       "    .dataframe thead th {\n",
       "        text-align: right;\n",
       "    }\n",
       "</style>\n",
       "<table border=\"1\" class=\"dataframe\">\n",
       "  <thead>\n",
       "    <tr style=\"text-align: right;\">\n",
       "      <th></th>\n",
       "      <th>median</th>\n",
       "      <th>count</th>\n",
       "    </tr>\n",
       "    <tr>\n",
       "      <th>artist_name</th>\n",
       "      <th></th>\n",
       "      <th></th>\n",
       "    </tr>\n",
       "  </thead>\n",
       "  <tbody>\n",
       "    <tr>\n",
       "      <th>!!!</th>\n",
       "      <td>22.0</td>\n",
       "      <td>44</td>\n",
       "    </tr>\n",
       "    <tr>\n",
       "      <th>!T.O.O.H.!</th>\n",
       "      <td>1.0</td>\n",
       "      <td>10</td>\n",
       "    </tr>\n",
       "    <tr>\n",
       "      <th>\"DEMONS\"</th>\n",
       "      <td>3.0</td>\n",
       "      <td>3</td>\n",
       "    </tr>\n",
       "    <tr>\n",
       "      <th>\"Weird Al\" Yankovic</th>\n",
       "      <td>34.0</td>\n",
       "      <td>25</td>\n",
       "    </tr>\n",
       "    <tr>\n",
       "      <th>#90s Update</th>\n",
       "      <td>33.0</td>\n",
       "      <td>3</td>\n",
       "    </tr>\n",
       "    <tr>\n",
       "      <th>...</th>\n",
       "      <td>...</td>\n",
       "      <td>...</td>\n",
       "    </tr>\n",
       "    <tr>\n",
       "      <th>조장혁</th>\n",
       "      <td>6.5</td>\n",
       "      <td>4</td>\n",
       "    </tr>\n",
       "    <tr>\n",
       "      <th>조정현</th>\n",
       "      <td>16.5</td>\n",
       "      <td>2</td>\n",
       "    </tr>\n",
       "    <tr>\n",
       "      <th>채연</th>\n",
       "      <td>9.0</td>\n",
       "      <td>9</td>\n",
       "    </tr>\n",
       "    <tr>\n",
       "      <th>티아라 N4</th>\n",
       "      <td>32.0</td>\n",
       "      <td>1</td>\n",
       "    </tr>\n",
       "    <tr>\n",
       "      <th>푸른새벽</th>\n",
       "      <td>6.0</td>\n",
       "      <td>12</td>\n",
       "    </tr>\n",
       "  </tbody>\n",
       "</table>\n",
       "<p>61445 rows × 2 columns</p>\n",
       "</div>"
      ],
      "text/plain": [
       "                     median  count\n",
       "artist_name                       \n",
       "!!!                    22.0     44\n",
       "!T.O.O.H.!              1.0     10\n",
       "\"DEMONS\"                3.0      3\n",
       "\"Weird Al\" Yankovic    34.0     25\n",
       "#90s Update            33.0      3\n",
       "...                     ...    ...\n",
       "조장혁                     6.5      4\n",
       "조정현                    16.5      2\n",
       "채연                      9.0      9\n",
       "티아라 N4                 32.0      1\n",
       "푸른새벽                    6.0     12\n",
       "\n",
       "[61445 rows x 2 columns]"
      ]
     },
     "execution_count": 22,
     "metadata": {},
     "output_type": "execute_result"
    }
   ],
   "source": [
    "# We can use artist and popularity in our feature engineering as it seems like a great feature to consider\n",
    "spotify_data['popularity'].groupby(spotify_data['artist_name']).agg(['median','count'])"
   ]
  },
  {
   "cell_type": "code",
   "execution_count": 23,
   "metadata": {},
   "outputs": [
    {
     "data": {
      "text/html": [
       "<div>\n",
       "<style scoped>\n",
       "    .dataframe tbody tr th:only-of-type {\n",
       "        vertical-align: middle;\n",
       "    }\n",
       "\n",
       "    .dataframe tbody tr th {\n",
       "        vertical-align: top;\n",
       "    }\n",
       "\n",
       "    .dataframe thead th {\n",
       "        text-align: right;\n",
       "    }\n",
       "</style>\n",
       "<table border=\"1\" class=\"dataframe\">\n",
       "  <thead>\n",
       "    <tr style=\"text-align: right;\">\n",
       "      <th></th>\n",
       "      <th>median</th>\n",
       "      <th>count</th>\n",
       "    </tr>\n",
       "    <tr>\n",
       "      <th>genre</th>\n",
       "      <th></th>\n",
       "      <th></th>\n",
       "    </tr>\n",
       "  </thead>\n",
       "  <tbody>\n",
       "    <tr>\n",
       "      <th>acoustic</th>\n",
       "      <td>18.0</td>\n",
       "      <td>19393</td>\n",
       "    </tr>\n",
       "    <tr>\n",
       "      <th>afrobeat</th>\n",
       "      <td>8.0</td>\n",
       "      <td>8920</td>\n",
       "    </tr>\n",
       "    <tr>\n",
       "      <th>alt-rock</th>\n",
       "      <td>37.0</td>\n",
       "      <td>20794</td>\n",
       "    </tr>\n",
       "    <tr>\n",
       "      <th>ambient</th>\n",
       "      <td>21.0</td>\n",
       "      <td>20058</td>\n",
       "    </tr>\n",
       "    <tr>\n",
       "      <th>black-metal</th>\n",
       "      <td>11.0</td>\n",
       "      <td>19824</td>\n",
       "    </tr>\n",
       "    <tr>\n",
       "      <th>...</th>\n",
       "      <td>...</td>\n",
       "      <td>...</td>\n",
       "    </tr>\n",
       "    <tr>\n",
       "      <th>swedish</th>\n",
       "      <td>17.0</td>\n",
       "      <td>11504</td>\n",
       "    </tr>\n",
       "    <tr>\n",
       "      <th>tango</th>\n",
       "      <td>3.0</td>\n",
       "      <td>6505</td>\n",
       "    </tr>\n",
       "    <tr>\n",
       "      <th>techno</th>\n",
       "      <td>17.0</td>\n",
       "      <td>6441</td>\n",
       "    </tr>\n",
       "    <tr>\n",
       "      <th>trance</th>\n",
       "      <td>16.0</td>\n",
       "      <td>8155</td>\n",
       "    </tr>\n",
       "    <tr>\n",
       "      <th>trip-hop</th>\n",
       "      <td>7.0</td>\n",
       "      <td>8260</td>\n",
       "    </tr>\n",
       "  </tbody>\n",
       "</table>\n",
       "<p>82 rows × 2 columns</p>\n",
       "</div>"
      ],
      "text/plain": [
       "             median  count\n",
       "genre                     \n",
       "acoustic       18.0  19393\n",
       "afrobeat        8.0   8920\n",
       "alt-rock       37.0  20794\n",
       "ambient        21.0  20058\n",
       "black-metal    11.0  19824\n",
       "...             ...    ...\n",
       "swedish        17.0  11504\n",
       "tango           3.0   6505\n",
       "techno         17.0   6441\n",
       "trance         16.0   8155\n",
       "trip-hop        7.0   8260\n",
       "\n",
       "[82 rows x 2 columns]"
      ]
     },
     "execution_count": 23,
     "metadata": {},
     "output_type": "execute_result"
    }
   ],
   "source": [
    "# Similarly for genre we will check if we can utilize this \n",
    "spotify_data['popularity'].groupby(spotify_data['genre']).agg(['median','count'])"
   ]
  },
  {
   "cell_type": "code",
   "execution_count": 24,
   "metadata": {},
   "outputs": [
    {
     "data": {
      "text/plain": [
       "0.000      769\n",
       "119.999    357\n",
       "120.002    346\n",
       "120.006    342\n",
       "128.001    334\n",
       "          ... \n",
       "173.253      1\n",
       "219.933      1\n",
       "172.614      1\n",
       "66.492       1\n",
       "161.509      1\n",
       "Name: tempo, Length: 132579, dtype: int64"
      ]
     },
     "execution_count": 24,
     "metadata": {},
     "output_type": "execute_result"
    }
   ],
   "source": [
    "# we might have to take care of tempo in data preprocessing\n",
    "spotify_data['tempo'].value_counts()"
   ]
  },
  {
   "cell_type": "code",
   "execution_count": 25,
   "metadata": {},
   "outputs": [
    {
     "data": {
      "text/plain": [
       "(1001373, 19)"
      ]
     },
     "execution_count": 25,
     "metadata": {},
     "output_type": "execute_result"
    }
   ],
   "source": [
    "spotify_data.shape"
   ]
  },
  {
   "cell_type": "code",
   "execution_count": 26,
   "metadata": {},
   "outputs": [
    {
     "data": {
      "image/png": "[encoded data removed]",
      "text/plain": [
       "<Figure size 1000x1000 with 1 Axes>"
      ]
     },
     "metadata": {},
     "output_type": "display_data"
    }
   ],
   "source": [
    "plt.figure(figsize=(10,10))\n",
    "sns.distplot(spotify_data[spotify_data['year']==2003]['popularity'], bins =100, kde= False)\n",
    "plt.show()"
   ]
  },
  {
   "cell_type": "code",
   "execution_count": 27,
   "metadata": {},
   "outputs": [
    {
     "data": {
      "image/png": "[encoded data removed]",
      "text/plain": [
       "<Figure size 1000x1000 with 1 Axes>"
      ]
     },
     "metadata": {},
     "output_type": "display_data"
    }
   ],
   "source": [
    "# We will visualize the score of the popularity which will help us understand the balance of the data\n",
    "\n",
    "plt.figure(figsize=(10,10))\n",
    "sns.distplot(spotify_data['popularity'], bins =100, kde= False)\n",
    "plt.show()"
   ]
  },
  {
   "cell_type": "code",
   "execution_count": 28,
   "metadata": {},
   "outputs": [
    {
     "data": {
      "image/png": "[encoded data removed]",
      "text/plain": [
       "<Figure size 2000x1000 with 2 Axes>"
      ]
     },
     "metadata": {},
     "output_type": "display_data"
    }
   ],
   "source": [
    "plt.figure(figsize = (20,10))        # Size of the figure\n",
    "sns.heatmap(spotify_data.corr(),annot = True)\n",
    "plt.show()"
   ]
  },
  {
   "attachments": {},
   "cell_type": "markdown",
   "metadata": {},
   "source": [
    "### 2. Data Preprocessing and Feature Engineering"
   ]
  },
  {
   "cell_type": "code",
   "execution_count": 29,
   "metadata": {},
   "outputs": [],
   "source": [
    "# We will get rid of the unnecessary columns from the dataset such as track name and track id\n",
    "spotify_data.drop(['track_name', 'track_id'], axis = 1, inplace = True)"
   ]
  },
  {
   "cell_type": "code",
   "execution_count": 30,
   "metadata": {},
   "outputs": [],
   "source": [
    "# We have seen that the tempo needs to be transformed as there are lot of values which are 0 hence transforming them to mean value.\n",
    "def fix_tempo():\n",
    "    spotify_data.loc[spotify_data['tempo'] == 0 , 'tempo'] = spotify_data.loc[spotify_data['tempo'] > 0 , 'tempo'].mean()"
   ]
  },
  {
   "cell_type": "code",
   "execution_count": 31,
   "metadata": {},
   "outputs": [
    {
     "data": {
      "text/plain": [
       "121.535175    769\n",
       "119.999000    357\n",
       "120.002000    346\n",
       "120.006000    342\n",
       "128.001000    334\n",
       "             ... \n",
       "173.253000      1\n",
       "219.933000      1\n",
       "172.614000      1\n",
       "66.492000       1\n",
       "161.509000      1\n",
       "Name: tempo, Length: 132579, dtype: int64"
      ]
     },
     "execution_count": 31,
     "metadata": {},
     "output_type": "execute_result"
    }
   ],
   "source": [
    "fix_tempo()\n",
    "spotify_data['tempo'].value_counts()"
   ]
  },
  {
   "cell_type": "code",
   "execution_count": 32,
   "metadata": {},
   "outputs": [
    {
     "data": {
      "text/plain": [
       "count    1.001373e+06\n",
       "mean     4.100293e+00\n",
       "std      2.322314e+00\n",
       "min      9.000000e-02\n",
       "25%      3.030000e+00\n",
       "50%      3.740000e+00\n",
       "75%      4.690000e+00\n",
       "max      1.000100e+02\n",
       "Name: duration_min, dtype: float64"
      ]
     },
     "execution_count": 32,
     "metadata": {},
     "output_type": "execute_result"
    }
   ],
   "source": [
    "# We also observed that the duration is in milliseconds and hence converting it into minutes\n",
    "spotify_data['duration_min'] = round(spotify_data['duration_ms']/60000, 2)\n",
    "spotify_data['duration_min'].describe()"
   ]
  },
  {
   "cell_type": "code",
   "execution_count": 33,
   "metadata": {},
   "outputs": [],
   "source": [
    "spotify_data.drop('duration_ms', axis= 1, inplace= True)"
   ]
  },
  {
   "cell_type": "code",
   "execution_count": 34,
   "metadata": {},
   "outputs": [
    {
     "data": {
      "text/html": [
       "<div>\n",
       "<style scoped>\n",
       "    .dataframe tbody tr th:only-of-type {\n",
       "        vertical-align: middle;\n",
       "    }\n",
       "\n",
       "    .dataframe tbody tr th {\n",
       "        vertical-align: top;\n",
       "    }\n",
       "\n",
       "    .dataframe thead th {\n",
       "        text-align: right;\n",
       "    }\n",
       "</style>\n",
       "<table border=\"1\" class=\"dataframe\">\n",
       "  <thead>\n",
       "    <tr style=\"text-align: right;\">\n",
       "      <th></th>\n",
       "      <th>artist_name</th>\n",
       "      <th>popularity</th>\n",
       "      <th>year</th>\n",
       "      <th>genre</th>\n",
       "      <th>danceability</th>\n",
       "      <th>energy</th>\n",
       "      <th>key</th>\n",
       "      <th>loudness</th>\n",
       "      <th>mode</th>\n",
       "      <th>speechiness</th>\n",
       "      <th>acousticness</th>\n",
       "      <th>instrumentalness</th>\n",
       "      <th>liveness</th>\n",
       "      <th>valence</th>\n",
       "      <th>tempo</th>\n",
       "      <th>time_signature</th>\n",
       "      <th>duration_min</th>\n",
       "    </tr>\n",
       "  </thead>\n",
       "  <tbody>\n",
       "    <tr>\n",
       "      <th>0</th>\n",
       "      <td>Jason Mraz</td>\n",
       "      <td>68</td>\n",
       "      <td>2012</td>\n",
       "      <td>acoustic</td>\n",
       "      <td>0.483</td>\n",
       "      <td>0.303</td>\n",
       "      <td>4</td>\n",
       "      <td>-10.058</td>\n",
       "      <td>1</td>\n",
       "      <td>0.0429</td>\n",
       "      <td>0.6940</td>\n",
       "      <td>0.000000</td>\n",
       "      <td>0.1150</td>\n",
       "      <td>0.139</td>\n",
       "      <td>133.406</td>\n",
       "      <td>3</td>\n",
       "      <td>4.00</td>\n",
       "    </tr>\n",
       "    <tr>\n",
       "      <th>1</th>\n",
       "      <td>Jason Mraz</td>\n",
       "      <td>50</td>\n",
       "      <td>2012</td>\n",
       "      <td>acoustic</td>\n",
       "      <td>0.572</td>\n",
       "      <td>0.454</td>\n",
       "      <td>3</td>\n",
       "      <td>-10.286</td>\n",
       "      <td>1</td>\n",
       "      <td>0.0258</td>\n",
       "      <td>0.4770</td>\n",
       "      <td>0.000014</td>\n",
       "      <td>0.0974</td>\n",
       "      <td>0.515</td>\n",
       "      <td>140.182</td>\n",
       "      <td>4</td>\n",
       "      <td>3.61</td>\n",
       "    </tr>\n",
       "    <tr>\n",
       "      <th>2</th>\n",
       "      <td>Joshua Hyslop</td>\n",
       "      <td>57</td>\n",
       "      <td>2012</td>\n",
       "      <td>acoustic</td>\n",
       "      <td>0.409</td>\n",
       "      <td>0.234</td>\n",
       "      <td>3</td>\n",
       "      <td>-13.711</td>\n",
       "      <td>1</td>\n",
       "      <td>0.0323</td>\n",
       "      <td>0.3380</td>\n",
       "      <td>0.000050</td>\n",
       "      <td>0.0895</td>\n",
       "      <td>0.145</td>\n",
       "      <td>139.832</td>\n",
       "      <td>4</td>\n",
       "      <td>2.65</td>\n",
       "    </tr>\n",
       "    <tr>\n",
       "      <th>3</th>\n",
       "      <td>Boyce Avenue</td>\n",
       "      <td>58</td>\n",
       "      <td>2012</td>\n",
       "      <td>acoustic</td>\n",
       "      <td>0.392</td>\n",
       "      <td>0.251</td>\n",
       "      <td>10</td>\n",
       "      <td>-9.845</td>\n",
       "      <td>1</td>\n",
       "      <td>0.0363</td>\n",
       "      <td>0.8070</td>\n",
       "      <td>0.000000</td>\n",
       "      <td>0.0797</td>\n",
       "      <td>0.508</td>\n",
       "      <td>204.961</td>\n",
       "      <td>4</td>\n",
       "      <td>5.07</td>\n",
       "    </tr>\n",
       "    <tr>\n",
       "      <th>4</th>\n",
       "      <td>Andrew Belle</td>\n",
       "      <td>54</td>\n",
       "      <td>2012</td>\n",
       "      <td>acoustic</td>\n",
       "      <td>0.430</td>\n",
       "      <td>0.791</td>\n",
       "      <td>6</td>\n",
       "      <td>-5.419</td>\n",
       "      <td>0</td>\n",
       "      <td>0.0302</td>\n",
       "      <td>0.0726</td>\n",
       "      <td>0.019300</td>\n",
       "      <td>0.1100</td>\n",
       "      <td>0.217</td>\n",
       "      <td>171.864</td>\n",
       "      <td>4</td>\n",
       "      <td>4.07</td>\n",
       "    </tr>\n",
       "  </tbody>\n",
       "</table>\n",
       "</div>"
      ],
      "text/plain": [
       "     artist_name  popularity  year     genre  danceability  energy  key  \\\n",
       "0     Jason Mraz          68  2012  acoustic         0.483   0.303    4   \n",
       "1     Jason Mraz          50  2012  acoustic         0.572   0.454    3   \n",
       "2  Joshua Hyslop          57  2012  acoustic         0.409   0.234    3   \n",
       "3   Boyce Avenue          58  2012  acoustic         0.392   0.251   10   \n",
       "4   Andrew Belle          54  2012  acoustic         0.430   0.791    6   \n",
       "\n",
       "   loudness  mode  speechiness  acousticness  instrumentalness  liveness  \\\n",
       "0   -10.058     1       0.0429        0.6940          0.000000    0.1150   \n",
       "1   -10.286     1       0.0258        0.4770          0.000014    0.0974   \n",
       "2   -13.711     1       0.0323        0.3380          0.000050    0.0895   \n",
       "3    -9.845     1       0.0363        0.8070          0.000000    0.0797   \n",
       "4    -5.419     0       0.0302        0.0726          0.019300    0.1100   \n",
       "\n",
       "   valence    tempo  time_signature  duration_min  \n",
       "0    0.139  133.406               3          4.00  \n",
       "1    0.515  140.182               4          3.61  \n",
       "2    0.145  139.832               4          2.65  \n",
       "3    0.508  204.961               4          5.07  \n",
       "4    0.217  171.864               4          4.07  "
      ]
     },
     "execution_count": 34,
     "metadata": {},
     "output_type": "execute_result"
    }
   ],
   "source": [
    "spotify_data.head()"
   ]
  },
  {
   "cell_type": "code",
   "execution_count": 36,
   "metadata": {},
   "outputs": [],
   "source": [
    "spotify_data.drop('artist_name', axis=1, inplace = True)"
   ]
  },
  {
   "cell_type": "code",
   "execution_count": 38,
   "metadata": {},
   "outputs": [],
   "source": [
    "spotify_data.drop('genre', axis=1, inplace = True)"
   ]
  },
  {
   "cell_type": "code",
   "execution_count": 39,
   "metadata": {},
   "outputs": [
    {
     "data": {
      "text/html": [
       "<div>\n",
       "<style scoped>\n",
       "    .dataframe tbody tr th:only-of-type {\n",
       "        vertical-align: middle;\n",
       "    }\n",
       "\n",
       "    .dataframe tbody tr th {\n",
       "        vertical-align: top;\n",
       "    }\n",
       "\n",
       "    .dataframe thead th {\n",
       "        text-align: right;\n",
       "    }\n",
       "</style>\n",
       "<table border=\"1\" class=\"dataframe\">\n",
       "  <thead>\n",
       "    <tr style=\"text-align: right;\">\n",
       "      <th></th>\n",
       "      <th>popularity</th>\n",
       "      <th>year</th>\n",
       "      <th>danceability</th>\n",
       "      <th>energy</th>\n",
       "      <th>key</th>\n",
       "      <th>loudness</th>\n",
       "      <th>mode</th>\n",
       "      <th>speechiness</th>\n",
       "      <th>acousticness</th>\n",
       "      <th>instrumentalness</th>\n",
       "      <th>liveness</th>\n",
       "      <th>valence</th>\n",
       "      <th>tempo</th>\n",
       "      <th>time_signature</th>\n",
       "      <th>duration_min</th>\n",
       "    </tr>\n",
       "  </thead>\n",
       "  <tbody>\n",
       "    <tr>\n",
       "      <th>0</th>\n",
       "      <td>68</td>\n",
       "      <td>2012</td>\n",
       "      <td>0.483</td>\n",
       "      <td>0.303</td>\n",
       "      <td>4</td>\n",
       "      <td>-10.058</td>\n",
       "      <td>1</td>\n",
       "      <td>0.0429</td>\n",
       "      <td>0.6940</td>\n",
       "      <td>0.000000</td>\n",
       "      <td>0.1150</td>\n",
       "      <td>0.139</td>\n",
       "      <td>133.406</td>\n",
       "      <td>3</td>\n",
       "      <td>4.00</td>\n",
       "    </tr>\n",
       "    <tr>\n",
       "      <th>1</th>\n",
       "      <td>50</td>\n",
       "      <td>2012</td>\n",
       "      <td>0.572</td>\n",
       "      <td>0.454</td>\n",
       "      <td>3</td>\n",
       "      <td>-10.286</td>\n",
       "      <td>1</td>\n",
       "      <td>0.0258</td>\n",
       "      <td>0.4770</td>\n",
       "      <td>0.000014</td>\n",
       "      <td>0.0974</td>\n",
       "      <td>0.515</td>\n",
       "      <td>140.182</td>\n",
       "      <td>4</td>\n",
       "      <td>3.61</td>\n",
       "    </tr>\n",
       "    <tr>\n",
       "      <th>2</th>\n",
       "      <td>57</td>\n",
       "      <td>2012</td>\n",
       "      <td>0.409</td>\n",
       "      <td>0.234</td>\n",
       "      <td>3</td>\n",
       "      <td>-13.711</td>\n",
       "      <td>1</td>\n",
       "      <td>0.0323</td>\n",
       "      <td>0.3380</td>\n",
       "      <td>0.000050</td>\n",
       "      <td>0.0895</td>\n",
       "      <td>0.145</td>\n",
       "      <td>139.832</td>\n",
       "      <td>4</td>\n",
       "      <td>2.65</td>\n",
       "    </tr>\n",
       "    <tr>\n",
       "      <th>3</th>\n",
       "      <td>58</td>\n",
       "      <td>2012</td>\n",
       "      <td>0.392</td>\n",
       "      <td>0.251</td>\n",
       "      <td>10</td>\n",
       "      <td>-9.845</td>\n",
       "      <td>1</td>\n",
       "      <td>0.0363</td>\n",
       "      <td>0.8070</td>\n",
       "      <td>0.000000</td>\n",
       "      <td>0.0797</td>\n",
       "      <td>0.508</td>\n",
       "      <td>204.961</td>\n",
       "      <td>4</td>\n",
       "      <td>5.07</td>\n",
       "    </tr>\n",
       "    <tr>\n",
       "      <th>4</th>\n",
       "      <td>54</td>\n",
       "      <td>2012</td>\n",
       "      <td>0.430</td>\n",
       "      <td>0.791</td>\n",
       "      <td>6</td>\n",
       "      <td>-5.419</td>\n",
       "      <td>0</td>\n",
       "      <td>0.0302</td>\n",
       "      <td>0.0726</td>\n",
       "      <td>0.019300</td>\n",
       "      <td>0.1100</td>\n",
       "      <td>0.217</td>\n",
       "      <td>171.864</td>\n",
       "      <td>4</td>\n",
       "      <td>4.07</td>\n",
       "    </tr>\n",
       "  </tbody>\n",
       "</table>\n",
       "</div>"
      ],
      "text/plain": [
       "   popularity  year  danceability  energy  key  loudness  mode  speechiness  \\\n",
       "0          68  2012         0.483   0.303    4   -10.058     1       0.0429   \n",
       "1          50  2012         0.572   0.454    3   -10.286     1       0.0258   \n",
       "2          57  2012         0.409   0.234    3   -13.711     1       0.0323   \n",
       "3          58  2012         0.392   0.251   10    -9.845     1       0.0363   \n",
       "4          54  2012         0.430   0.791    6    -5.419     0       0.0302   \n",
       "\n",
       "   acousticness  instrumentalness  liveness  valence    tempo  time_signature  \\\n",
       "0        0.6940          0.000000    0.1150    0.139  133.406               3   \n",
       "1        0.4770          0.000014    0.0974    0.515  140.182               4   \n",
       "2        0.3380          0.000050    0.0895    0.145  139.832               4   \n",
       "3        0.8070          0.000000    0.0797    0.508  204.961               4   \n",
       "4        0.0726          0.019300    0.1100    0.217  171.864               4   \n",
       "\n",
       "   duration_min  \n",
       "0          4.00  \n",
       "1          3.61  \n",
       "2          2.65  \n",
       "3          5.07  \n",
       "4          4.07  "
      ]
     },
     "execution_count": 39,
     "metadata": {},
     "output_type": "execute_result"
    }
   ],
   "source": [
    "spotify_data.head()"
   ]
  },
  {
   "cell_type": "code",
   "execution_count": 40,
   "metadata": {},
   "outputs": [],
   "source": [
    "def convert_popularity(popularity_val):\n",
    "    return int(popularity_val >= 50)"
   ]
  },
  {
   "cell_type": "code",
   "execution_count": 41,
   "metadata": {},
   "outputs": [],
   "source": [
    "spotify_data['popularity'] = spotify_data['popularity'].apply(convert_popularity)"
   ]
  },
  {
   "cell_type": "code",
   "execution_count": 43,
   "metadata": {},
   "outputs": [
    {
     "data": {
      "text/plain": [
       "<Axes: >"
      ]
     },
     "execution_count": 43,
     "metadata": {},
     "output_type": "execute_result"
    },
    {
     "data": {
      "image/png": "[encoded data removed]",
      "text/plain": [
       "<Figure size 640x480 with 1 Axes>"
      ]
     },
     "metadata": {},
     "output_type": "display_data"
    }
   ],
   "source": [
    "spotify_data['popularity'].value_counts().plot(kind='bar')"
   ]
  },
  {
   "attachments": {},
   "cell_type": "markdown",
   "metadata": {},
   "source": [
    "### Note: We have imbalanced data as there are very less songs with popularity score more than the threshold we decided based on the third quartile of data"
   ]
  },
  {
   "cell_type": "code",
   "execution_count": 29,
   "metadata": {},
   "outputs": [],
   "source": [
    "# We are going to encode the year in the dataframe\n",
    "# le = LabelEncoder()\n",
    "\n",
    "# spotify_data.year = le.fit_transform(spotify_data.year)\n",
    "\n",
    "with open('year_encoder_le.pkl', 'rb') as file:\n",
    "        yr_encoder = pkl.load(file)\n",
    "with open('catcols_encoder_ohe.pkl', 'rb') as file:\n",
    "        ohe_encoder = pkl.load(file)\n",
    "with open('feature_scaler.pkl', 'rb') as file:\n",
    "        feature_scaler = pkl.load(file)"
   ]
  },
  {
   "cell_type": "code",
   "execution_count": 30,
   "metadata": {},
   "outputs": [],
   "source": [
    "numeric_cols = [ 'danceability', 'energy', \n",
    "       'loudness', 'mode', 'speechiness', 'acousticness', 'instrumentalness',\n",
    "       'liveness', 'valence', 'tempo', 'duration_min']\n",
    "categorical_cols = ['year','time_signature', 'key']"
   ]
  },
  {
   "cell_type": "code",
   "execution_count": 31,
   "metadata": {},
   "outputs": [
    {
     "data": {
      "text/html": [
       "<div>\n",
       "<style scoped>\n",
       "    .dataframe tbody tr th:only-of-type {\n",
       "        vertical-align: middle;\n",
       "    }\n",
       "\n",
       "    .dataframe tbody tr th {\n",
       "        vertical-align: top;\n",
       "    }\n",
       "\n",
       "    .dataframe thead th {\n",
       "        text-align: right;\n",
       "    }\n",
       "</style>\n",
       "<table border=\"1\" class=\"dataframe\">\n",
       "  <thead>\n",
       "    <tr style=\"text-align: right;\">\n",
       "      <th></th>\n",
       "      <th>popularity</th>\n",
       "      <th>year</th>\n",
       "      <th>danceability</th>\n",
       "      <th>energy</th>\n",
       "      <th>key</th>\n",
       "      <th>loudness</th>\n",
       "      <th>mode</th>\n",
       "      <th>speechiness</th>\n",
       "      <th>acousticness</th>\n",
       "      <th>instrumentalness</th>\n",
       "      <th>liveness</th>\n",
       "      <th>valence</th>\n",
       "      <th>tempo</th>\n",
       "      <th>time_signature</th>\n",
       "      <th>duration_min</th>\n",
       "    </tr>\n",
       "  </thead>\n",
       "  <tbody>\n",
       "    <tr>\n",
       "      <th>0</th>\n",
       "      <td>1</td>\n",
       "      <td>2012</td>\n",
       "      <td>0.483</td>\n",
       "      <td>0.303</td>\n",
       "      <td>4</td>\n",
       "      <td>-10.058</td>\n",
       "      <td>1</td>\n",
       "      <td>0.0429</td>\n",
       "      <td>0.6940</td>\n",
       "      <td>0.000000</td>\n",
       "      <td>0.1150</td>\n",
       "      <td>0.139</td>\n",
       "      <td>133.406</td>\n",
       "      <td>3</td>\n",
       "      <td>4.00</td>\n",
       "    </tr>\n",
       "    <tr>\n",
       "      <th>1</th>\n",
       "      <td>1</td>\n",
       "      <td>2012</td>\n",
       "      <td>0.572</td>\n",
       "      <td>0.454</td>\n",
       "      <td>3</td>\n",
       "      <td>-10.286</td>\n",
       "      <td>1</td>\n",
       "      <td>0.0258</td>\n",
       "      <td>0.4770</td>\n",
       "      <td>0.000014</td>\n",
       "      <td>0.0974</td>\n",
       "      <td>0.515</td>\n",
       "      <td>140.182</td>\n",
       "      <td>4</td>\n",
       "      <td>3.61</td>\n",
       "    </tr>\n",
       "    <tr>\n",
       "      <th>2</th>\n",
       "      <td>1</td>\n",
       "      <td>2012</td>\n",
       "      <td>0.409</td>\n",
       "      <td>0.234</td>\n",
       "      <td>3</td>\n",
       "      <td>-13.711</td>\n",
       "      <td>1</td>\n",
       "      <td>0.0323</td>\n",
       "      <td>0.3380</td>\n",
       "      <td>0.000050</td>\n",
       "      <td>0.0895</td>\n",
       "      <td>0.145</td>\n",
       "      <td>139.832</td>\n",
       "      <td>4</td>\n",
       "      <td>2.65</td>\n",
       "    </tr>\n",
       "    <tr>\n",
       "      <th>3</th>\n",
       "      <td>1</td>\n",
       "      <td>2012</td>\n",
       "      <td>0.392</td>\n",
       "      <td>0.251</td>\n",
       "      <td>10</td>\n",
       "      <td>-9.845</td>\n",
       "      <td>1</td>\n",
       "      <td>0.0363</td>\n",
       "      <td>0.8070</td>\n",
       "      <td>0.000000</td>\n",
       "      <td>0.0797</td>\n",
       "      <td>0.508</td>\n",
       "      <td>204.961</td>\n",
       "      <td>4</td>\n",
       "      <td>5.07</td>\n",
       "    </tr>\n",
       "    <tr>\n",
       "      <th>4</th>\n",
       "      <td>1</td>\n",
       "      <td>2012</td>\n",
       "      <td>0.430</td>\n",
       "      <td>0.791</td>\n",
       "      <td>6</td>\n",
       "      <td>-5.419</td>\n",
       "      <td>0</td>\n",
       "      <td>0.0302</td>\n",
       "      <td>0.0726</td>\n",
       "      <td>0.019300</td>\n",
       "      <td>0.1100</td>\n",
       "      <td>0.217</td>\n",
       "      <td>171.864</td>\n",
       "      <td>4</td>\n",
       "      <td>4.07</td>\n",
       "    </tr>\n",
       "  </tbody>\n",
       "</table>\n",
       "</div>"
      ],
      "text/plain": [
       "   popularity  year  danceability  energy  key  loudness  mode  speechiness  \\\n",
       "0           1  2012         0.483   0.303    4   -10.058     1       0.0429   \n",
       "1           1  2012         0.572   0.454    3   -10.286     1       0.0258   \n",
       "2           1  2012         0.409   0.234    3   -13.711     1       0.0323   \n",
       "3           1  2012         0.392   0.251   10    -9.845     1       0.0363   \n",
       "4           1  2012         0.430   0.791    6    -5.419     0       0.0302   \n",
       "\n",
       "   acousticness  instrumentalness  liveness  valence    tempo  time_signature  \\\n",
       "0        0.6940          0.000000    0.1150    0.139  133.406               3   \n",
       "1        0.4770          0.000014    0.0974    0.515  140.182               4   \n",
       "2        0.3380          0.000050    0.0895    0.145  139.832               4   \n",
       "3        0.8070          0.000000    0.0797    0.508  204.961               4   \n",
       "4        0.0726          0.019300    0.1100    0.217  171.864               4   \n",
       "\n",
       "   duration_min  \n",
       "0          4.00  \n",
       "1          3.61  \n",
       "2          2.65  \n",
       "3          5.07  \n",
       "4          4.07  "
      ]
     },
     "execution_count": 31,
     "metadata": {},
     "output_type": "execute_result"
    }
   ],
   "source": [
    "spotify_data.head()"
   ]
  },
  {
   "cell_type": "code",
   "execution_count": 32,
   "metadata": {},
   "outputs": [],
   "source": [
    "spotify_data['year'] = yr_encoder.transform(spotify_data['year'])\n",
    "encoded_new_data_df = pd.DataFrame(ohe_encoder.transform(spotify_data[categorical_cols]).toarray(), index=spotify_data.index)\n",
    "encoded_new_data_df.columns = ohe_encoder.get_feature_names_out()\n",
    "final_df = pd.concat([spotify_data, encoded_new_data_df], axis=1)\n",
    "final_df.drop(categorical_cols, axis=1, inplace=True)"
   ]
  },
  {
   "cell_type": "code",
   "execution_count": 33,
   "metadata": {},
   "outputs": [
    {
     "data": {
      "text/plain": [
       "Index(['popularity', 'danceability', 'energy', 'loudness', 'mode',\n",
       "       'speechiness', 'acousticness', 'instrumentalness', 'liveness',\n",
       "       'valence', 'tempo', 'duration_min', 'year_0', 'year_1', 'year_2',\n",
       "       'year_3', 'year_4', 'year_5', 'year_6', 'year_7', 'year_8', 'year_9',\n",
       "       'year_10', 'year_11', 'year_12', 'year_13', 'year_14', 'year_15',\n",
       "       'year_16', 'year_17', 'year_18', 'year_19', 'year_20', 'year_21',\n",
       "       'year_22', 'year_23', 'time_signature_0', 'time_signature_1',\n",
       "       'time_signature_3', 'time_signature_4', 'time_signature_5', 'key_0',\n",
       "       'key_1', 'key_2', 'key_3', 'key_4', 'key_5', 'key_6', 'key_7', 'key_8',\n",
       "       'key_9', 'key_10', 'key_11'],\n",
       "      dtype='object')"
      ]
     },
     "execution_count": 33,
     "metadata": {},
     "output_type": "execute_result"
    }
   ],
   "source": [
    "final_df.columns"
   ]
  },
  {
   "cell_type": "code",
   "execution_count": 48,
   "metadata": {},
   "outputs": [],
   "source": [
    "X = final_df.drop('popularity', axis=1).copy()\n",
    "y = final_df['popularity'].copy()"
   ]
  },
  {
   "cell_type": "code",
   "execution_count": 49,
   "metadata": {},
   "outputs": [
    {
     "data": {
      "text/plain": [
       "Index(['danceability', 'energy', 'loudness', 'mode', 'speechiness',\n",
       "       'acousticness', 'instrumentalness', 'liveness', 'valence', 'tempo',\n",
       "       'duration_min', 'year_0', 'year_1', 'year_2', 'year_3', 'year_4',\n",
       "       'year_5', 'year_6', 'year_7', 'year_8', 'year_9', 'year_10', 'year_11',\n",
       "       'year_12', 'year_13', 'year_14', 'year_15', 'year_16', 'year_17',\n",
       "       'year_18', 'year_19', 'year_20', 'year_21', 'year_22', 'year_23',\n",
       "       'time_signature_0', 'time_signature_1', 'time_signature_3',\n",
       "       'time_signature_4', 'time_signature_5', 'key_0', 'key_1', 'key_2',\n",
       "       'key_3', 'key_4', 'key_5', 'key_6', 'key_7', 'key_8', 'key_9', 'key_10',\n",
       "       'key_11'],\n",
       "      dtype='object')"
      ]
     },
     "execution_count": 49,
     "metadata": {},
     "output_type": "execute_result"
    }
   ],
   "source": [
    "X.columns"
   ]
  },
  {
   "cell_type": "code",
   "execution_count": 50,
   "metadata": {},
   "outputs": [
    {
     "name": "stdout",
     "output_type": "stream",
     "text": [
      "                   VIF\n",
      "Features              \n",
      "duration_min      2.92\n",
      "valence           2.71\n",
      "mode              2.41\n",
      "liveness          2.26\n",
      "acousticness      1.72\n",
      "speechiness       1.66\n",
      "instrumentalness  1.54\n"
     ]
    }
   ],
   "source": [
    "def get_vif(X_df):\n",
    "    vif = pd.DataFrame()\n",
    "    vif['Features'] = X_df.columns\n",
    "    vif = vif.set_index('Features')\n",
    "    vif['VIF'] = [variance_inflation_factor(X_df.values, i) for i in range(X_df.shape[1])]\n",
    "    vif['VIF'] = round(vif['VIF'],2)\n",
    "    vif = vif.sort_values(by='VIF', ascending= False)\n",
    "    print(vif)\n",
    "\n",
    "\n",
    "numeric_cols = [   'mode', 'speechiness', 'acousticness', 'instrumentalness',\n",
    "       'liveness', 'valence',  'duration_min']\n",
    "categorical_cols = ['year','time_signature', 'key']\n",
    "\n",
    "get_vif(X[numeric_cols])"
   ]
  },
  {
   "attachments": {},
   "cell_type": "markdown",
   "metadata": {},
   "source": [
    "### Note: <p>We got rid of the multicollinear features step wise with vif score above 5 which can be seen from above list</p>"
   ]
  },
  {
   "cell_type": "code",
   "execution_count": 51,
   "metadata": {},
   "outputs": [],
   "source": [
    "# We will drop the multicollinear features from our final dataset\n",
    "X.drop(['danceability', 'energy', 'loudness', 'tempo'], axis=1, inplace= True)"
   ]
  },
  {
   "cell_type": "code",
   "execution_count": 52,
   "metadata": {},
   "outputs": [
    {
     "data": {
      "text/plain": [
       "Index(['mode', 'speechiness', 'acousticness', 'instrumentalness', 'liveness',\n",
       "       'valence', 'duration_min', 'year_0', 'year_1', 'year_2', 'year_3',\n",
       "       'year_4', 'year_5', 'year_6', 'year_7', 'year_8', 'year_9', 'year_10',\n",
       "       'year_11', 'year_12', 'year_13', 'year_14', 'year_15', 'year_16',\n",
       "       'year_17', 'year_18', 'year_19', 'year_20', 'year_21', 'year_22',\n",
       "       'year_23', 'time_signature_0', 'time_signature_1', 'time_signature_3',\n",
       "       'time_signature_4', 'time_signature_5', 'key_0', 'key_1', 'key_2',\n",
       "       'key_3', 'key_4', 'key_5', 'key_6', 'key_7', 'key_8', 'key_9', 'key_10',\n",
       "       'key_11'],\n",
       "      dtype='object')"
      ]
     },
     "execution_count": 52,
     "metadata": {},
     "output_type": "execute_result"
    }
   ],
   "source": [
    "X.columns"
   ]
  },
  {
   "cell_type": "code",
   "execution_count": 53,
   "metadata": {},
   "outputs": [
    {
     "data": {
      "text/plain": [
       "0.04569033010164137"
      ]
     },
     "execution_count": 53,
     "metadata": {},
     "output_type": "execute_result"
    }
   ],
   "source": [
    "sum(y) / len(y)"
   ]
  },
  {
   "cell_type": "code",
   "execution_count": 61,
   "metadata": {},
   "outputs": [],
   "source": [
    "X_train, X_test, y_train, y_test = train_test_split(X, y, test_size=0.2, random_state = 42, stratify= y)"
   ]
  },
  {
   "cell_type": "code",
   "execution_count": 62,
   "metadata": {},
   "outputs": [
    {
     "data": {
      "text/plain": [
       "Index(['mode', 'speechiness', 'acousticness', 'instrumentalness', 'liveness',\n",
       "       'valence', 'duration_min', 'year_0', 'year_1', 'year_2', 'year_3',\n",
       "       'year_4', 'year_5', 'year_6', 'year_7', 'year_8', 'year_9', 'year_10',\n",
       "       'year_11', 'year_12', 'year_13', 'year_14', 'year_15', 'year_16',\n",
       "       'year_17', 'year_18', 'year_19', 'year_20', 'year_21', 'year_22',\n",
       "       'year_23', 'time_signature_0', 'time_signature_1', 'time_signature_3',\n",
       "       'time_signature_4', 'time_signature_5', 'key_0', 'key_1', 'key_2',\n",
       "       'key_3', 'key_4', 'key_5', 'key_6', 'key_7', 'key_8', 'key_9', 'key_10',\n",
       "       'key_11'],\n",
       "      dtype='object')"
      ]
     },
     "execution_count": 62,
     "metadata": {},
     "output_type": "execute_result"
    }
   ],
   "source": [
    "X_train.columns"
   ]
  },
  {
   "cell_type": "code",
   "execution_count": 63,
   "metadata": {},
   "outputs": [
    {
     "data": {
      "text/plain": [
       "0.045690290705444635"
      ]
     },
     "execution_count": 63,
     "metadata": {},
     "output_type": "execute_result"
    }
   ],
   "source": [
    "sum(y_test) / len(y_test)"
   ]
  },
  {
   "cell_type": "code",
   "execution_count": 64,
   "metadata": {},
   "outputs": [],
   "source": [
    "# We will perform scaling to fit the value between min and max, however the fit should not be done on test dataset and only transform must be done.\n",
    "scaler = StandardScaler()\n",
    "X_train[numeric_cols] = scaler.fit_transform(X_train[numeric_cols])\n",
    "X_test[numeric_cols] = scaler.transform(X_test[numeric_cols])\n",
    "output = open('feature_scaler.pkl', 'wb')\n",
    "pkl.dump(scaler, output)\n",
    "output.close()"
   ]
  },
  {
   "cell_type": "code",
   "execution_count": 66,
   "metadata": {},
   "outputs": [
    {
     "data": {
      "text/html": [
       "<div>\n",
       "<style scoped>\n",
       "    .dataframe tbody tr th:only-of-type {\n",
       "        vertical-align: middle;\n",
       "    }\n",
       "\n",
       "    .dataframe tbody tr th {\n",
       "        vertical-align: top;\n",
       "    }\n",
       "\n",
       "    .dataframe thead th {\n",
       "        text-align: right;\n",
       "    }\n",
       "</style>\n",
       "<table border=\"1\" class=\"dataframe\">\n",
       "  <thead>\n",
       "    <tr style=\"text-align: right;\">\n",
       "      <th></th>\n",
       "      <th>mode</th>\n",
       "      <th>speechiness</th>\n",
       "      <th>acousticness</th>\n",
       "      <th>instrumentalness</th>\n",
       "      <th>liveness</th>\n",
       "      <th>valence</th>\n",
       "      <th>duration_min</th>\n",
       "      <th>year_0</th>\n",
       "      <th>year_1</th>\n",
       "      <th>year_2</th>\n",
       "      <th>...</th>\n",
       "      <th>key_2</th>\n",
       "      <th>key_3</th>\n",
       "      <th>key_4</th>\n",
       "      <th>key_5</th>\n",
       "      <th>key_6</th>\n",
       "      <th>key_7</th>\n",
       "      <th>key_8</th>\n",
       "      <th>key_9</th>\n",
       "      <th>key_10</th>\n",
       "      <th>key_11</th>\n",
       "    </tr>\n",
       "  </thead>\n",
       "  <tbody>\n",
       "    <tr>\n",
       "      <th>1158856</th>\n",
       "      <td>-1.318426</td>\n",
       "      <td>0.607237</td>\n",
       "      <td>-0.904513</td>\n",
       "      <td>-0.077449</td>\n",
       "      <td>-0.403211</td>\n",
       "      <td>-1.355748</td>\n",
       "      <td>-0.770093</td>\n",
       "      <td>0.0</td>\n",
       "      <td>0.0</td>\n",
       "      <td>0.0</td>\n",
       "      <td>...</td>\n",
       "      <td>0.0</td>\n",
       "      <td>0.0</td>\n",
       "      <td>0.0</td>\n",
       "      <td>0.0</td>\n",
       "      <td>0.0</td>\n",
       "      <td>0.0</td>\n",
       "      <td>0.0</td>\n",
       "      <td>0.0</td>\n",
       "      <td>0.0</td>\n",
       "      <td>0.0</td>\n",
       "    </tr>\n",
       "    <tr>\n",
       "      <th>1412869</th>\n",
       "      <td>0.758480</td>\n",
       "      <td>-0.251077</td>\n",
       "      <td>-0.901897</td>\n",
       "      <td>-0.691071</td>\n",
       "      <td>-0.618004</td>\n",
       "      <td>0.202893</td>\n",
       "      <td>-0.099535</td>\n",
       "      <td>0.0</td>\n",
       "      <td>0.0</td>\n",
       "      <td>0.0</td>\n",
       "      <td>...</td>\n",
       "      <td>0.0</td>\n",
       "      <td>0.0</td>\n",
       "      <td>0.0</td>\n",
       "      <td>1.0</td>\n",
       "      <td>0.0</td>\n",
       "      <td>0.0</td>\n",
       "      <td>0.0</td>\n",
       "      <td>0.0</td>\n",
       "      <td>0.0</td>\n",
       "      <td>0.0</td>\n",
       "    </tr>\n",
       "    <tr>\n",
       "      <th>622397</th>\n",
       "      <td>0.758480</td>\n",
       "      <td>-0.299111</td>\n",
       "      <td>-0.886996</td>\n",
       "      <td>-0.691071</td>\n",
       "      <td>0.327683</td>\n",
       "      <td>-0.940756</td>\n",
       "      <td>-0.277273</td>\n",
       "      <td>0.0</td>\n",
       "      <td>0.0</td>\n",
       "      <td>0.0</td>\n",
       "      <td>...</td>\n",
       "      <td>0.0</td>\n",
       "      <td>0.0</td>\n",
       "      <td>0.0</td>\n",
       "      <td>0.0</td>\n",
       "      <td>0.0</td>\n",
       "      <td>0.0</td>\n",
       "      <td>0.0</td>\n",
       "      <td>0.0</td>\n",
       "      <td>0.0</td>\n",
       "      <td>0.0</td>\n",
       "    </tr>\n",
       "    <tr>\n",
       "      <th>894797</th>\n",
       "      <td>-1.318426</td>\n",
       "      <td>1.056080</td>\n",
       "      <td>-0.260504</td>\n",
       "      <td>-0.691071</td>\n",
       "      <td>0.049247</td>\n",
       "      <td>1.365169</td>\n",
       "      <td>-0.479249</td>\n",
       "      <td>0.0</td>\n",
       "      <td>0.0</td>\n",
       "      <td>0.0</td>\n",
       "      <td>...</td>\n",
       "      <td>0.0</td>\n",
       "      <td>0.0</td>\n",
       "      <td>0.0</td>\n",
       "      <td>0.0</td>\n",
       "      <td>0.0</td>\n",
       "      <td>0.0</td>\n",
       "      <td>0.0</td>\n",
       "      <td>1.0</td>\n",
       "      <td>0.0</td>\n",
       "      <td>0.0</td>\n",
       "    </tr>\n",
       "    <tr>\n",
       "      <th>846287</th>\n",
       "      <td>-1.318426</td>\n",
       "      <td>-0.166820</td>\n",
       "      <td>0.843646</td>\n",
       "      <td>-0.691071</td>\n",
       "      <td>0.556398</td>\n",
       "      <td>0.512089</td>\n",
       "      <td>-0.313629</td>\n",
       "      <td>0.0</td>\n",
       "      <td>0.0</td>\n",
       "      <td>1.0</td>\n",
       "      <td>...</td>\n",
       "      <td>0.0</td>\n",
       "      <td>0.0</td>\n",
       "      <td>0.0</td>\n",
       "      <td>0.0</td>\n",
       "      <td>1.0</td>\n",
       "      <td>0.0</td>\n",
       "      <td>0.0</td>\n",
       "      <td>0.0</td>\n",
       "      <td>0.0</td>\n",
       "      <td>0.0</td>\n",
       "    </tr>\n",
       "  </tbody>\n",
       "</table>\n",
       "<p>5 rows × 48 columns</p>\n",
       "</div>"
      ],
      "text/plain": [
       "             mode  speechiness  acousticness  instrumentalness  liveness  \\\n",
       "1158856 -1.318426     0.607237     -0.904513         -0.077449 -0.403211   \n",
       "1412869  0.758480    -0.251077     -0.901897         -0.691071 -0.618004   \n",
       "622397   0.758480    -0.299111     -0.886996         -0.691071  0.327683   \n",
       "894797  -1.318426     1.056080     -0.260504         -0.691071  0.049247   \n",
       "846287  -1.318426    -0.166820      0.843646         -0.691071  0.556398   \n",
       "\n",
       "          valence  duration_min  year_0  year_1  year_2  ...  key_2  key_3  \\\n",
       "1158856 -1.355748     -0.770093     0.0     0.0     0.0  ...    0.0    0.0   \n",
       "1412869  0.202893     -0.099535     0.0     0.0     0.0  ...    0.0    0.0   \n",
       "622397  -0.940756     -0.277273     0.0     0.0     0.0  ...    0.0    0.0   \n",
       "894797   1.365169     -0.479249     0.0     0.0     0.0  ...    0.0    0.0   \n",
       "846287   0.512089     -0.313629     0.0     0.0     1.0  ...    0.0    0.0   \n",
       "\n",
       "         key_4  key_5  key_6  key_7  key_8  key_9  key_10  key_11  \n",
       "1158856    0.0    0.0    0.0    0.0    0.0    0.0     0.0     0.0  \n",
       "1412869    0.0    1.0    0.0    0.0    0.0    0.0     0.0     0.0  \n",
       "622397     0.0    0.0    0.0    0.0    0.0    0.0     0.0     0.0  \n",
       "894797     0.0    0.0    0.0    0.0    0.0    1.0     0.0     0.0  \n",
       "846287     0.0    0.0    1.0    0.0    0.0    0.0     0.0     0.0  \n",
       "\n",
       "[5 rows x 48 columns]"
      ]
     },
     "execution_count": 66,
     "metadata": {},
     "output_type": "execute_result"
    }
   ],
   "source": [
    "X_train.head()"
   ]
  },
  {
   "attachments": {},
   "cell_type": "markdown",
   "metadata": {},
   "source": [
    "#### Now that we have our data ready we need to do resampling as we have minority class at low ratio compared to majority class and therefore, we will perform smotetomek for resampling."
   ]
  },
  {
   "cell_type": "code",
   "execution_count": 80,
   "metadata": {},
   "outputs": [
    {
     "name": "stdout",
     "output_type": "stream",
     "text": [
      "Before performing the oversampling technique:  Counter({0: 885419, 1: 42392})\n",
      "After performing the oversampling technique:  Counter({0: 885419, 1: 884560})\n"
     ]
    }
   ],
   "source": [
    "adsyn = ADASYN(random_state=42)\n",
    "#Takes around 11 minutes to oversample the data for minority class\n",
    "#Before smotetomek\n",
    "print('Before performing the oversampling technique: ', Counter(y_train))\n",
    "X_train_ad, y_train_ad = adsyn.fit_resample(X_train, y_train)\n",
    "\n",
    "#After Smotetomek\n",
    "print('After performing the oversampling technique: ', Counter(y_train_ad))"
   ]
  },
  {
   "cell_type": "code",
   "execution_count": 84,
   "metadata": {},
   "outputs": [
    {
     "name": "stdout",
     "output_type": "stream",
     "text": [
      "Counter({0: 885419, 1: 42392})\n",
      "Counter({0: 885419, 1: 884560})\n"
     ]
    }
   ],
   "source": [
    "print(Counter(y_train))\n",
    "print(Counter(y_train_ad))"
   ]
  },
  {
   "attachments": {},
   "cell_type": "markdown",
   "metadata": {},
   "source": [
    "## Model Creation using various methods\n",
    "#### 1. Logistic regression"
   ]
  },
  {
   "cell_type": "code",
   "execution_count": 91,
   "metadata": {},
   "outputs": [
    {
     "name": "stdout",
     "output_type": "stream",
     "text": [
      "Fitting 3 folds for each of 3 candidates, totalling 9 fits\n"
     ]
    },
    {
     "data": {
      "text/plain": [
       "GridSearchCV(cv=3, estimator=LogisticRegression(), n_jobs=-1,\n",
       "             param_grid={'max_iter': [20, 50, 100]}, scoring='f1', verbose=1)"
      ]
     },
     "execution_count": 91,
     "metadata": {},
     "output_type": "execute_result"
    }
   ],
   "source": [
    "parameters = {\n",
    "    'max_iter' : [20,50,100]\n",
    "}\n",
    "best_lr = GridSearchCV(estimator=LogisticRegression(), param_grid=parameters, verbose= 1, scoring= 'f1', cv = 3, n_jobs=-1)\n",
    "best_lr.fit(X_train_ad, y_train_ad)"
   ]
  },
  {
   "cell_type": "code",
   "execution_count": 92,
   "metadata": {},
   "outputs": [
    {
     "data": {
      "text/plain": [
       "(LogisticRegression(max_iter=20), {'max_iter': 20}, 0.7065801521237827)"
      ]
     },
     "execution_count": 92,
     "metadata": {},
     "output_type": "execute_result"
    }
   ],
   "source": [
    "best_lr.best_estimator_,best_lr.best_params_,best_lr.best_score_"
   ]
  },
  {
   "cell_type": "code",
   "execution_count": 95,
   "metadata": {},
   "outputs": [],
   "source": [
    "best_lr_final = LogisticRegression(max_iter=20)\n",
    "best_lr_final.fit(X_train_ad, y_train_ad)\n",
    "y_pred_lr = best_lr_final.predict(X_test)"
   ]
  },
  {
   "cell_type": "code",
   "execution_count": 154,
   "metadata": {},
   "outputs": [],
   "source": [
    "with open('best_logistic_regression', 'wb') as files:\n",
    "    pkl.dump(best_lr_final, files)"
   ]
  },
  {
   "cell_type": "code",
   "execution_count": 96,
   "metadata": {},
   "outputs": [
    {
     "name": "stdout",
     "output_type": "stream",
     "text": [
      "              precision    recall  f1-score   support\n",
      "\n",
      "           0       0.98      0.71      0.83    221355\n",
      "           1       0.11      0.71      0.18     10598\n",
      "\n",
      "    accuracy                           0.71    231953\n",
      "   macro avg       0.54      0.71      0.50    231953\n",
      "weighted avg       0.94      0.71      0.80    231953\n",
      "\n"
     ]
    }
   ],
   "source": [
    "print(classification_report(y_test, y_pred_lr))"
   ]
  },
  {
   "cell_type": "code",
   "execution_count": 97,
   "metadata": {},
   "outputs": [
    {
     "data": {
      "text/plain": [
       "0.7095"
      ]
     },
     "execution_count": 97,
     "metadata": {},
     "output_type": "execute_result"
    }
   ],
   "source": [
    "round(roc_auc_score(y_test, y_pred_lr),4)"
   ]
  },
  {
   "cell_type": "code",
   "execution_count": 98,
   "metadata": {},
   "outputs": [
    {
     "data": {
      "image/png": "[encoded data removed]",
      "text/plain": [
       "<Figure size 640x480 with 1 Axes>"
      ]
     },
     "metadata": {},
     "output_type": "display_data"
    }
   ],
   "source": [
    "lr_probs = best_lr_final.predict_proba(X_test)\n",
    "lr_probs = lr_probs[:, 1]\n",
    "lr_auc = roc_auc_score(y_test, lr_probs)\n",
    "fpr, tpr, thresholds = roc_curve(y_test, lr_probs)\n",
    "plt.plot([0,1], [0,1], linestyle='--', label='No Skill')\n",
    "plt.plot(fpr, tpr, marker='.', label='LR Classifier')\n",
    "plt.xlabel('False Positive Rate')\n",
    "plt.ylabel('True Positive Rate')\n",
    "plt.legend()\n",
    "plt.show()"
   ]
  },
  {
   "cell_type": "code",
   "execution_count": 167,
   "metadata": {},
   "outputs": [
    {
     "name": "stdout",
     "output_type": "stream",
     "text": [
      "Result: precision=0.105, recall=0.707, fscore=0.330\n"
     ]
    }
   ],
   "source": [
    "p = precision_score(y_test, y_pred_lr)\n",
    "r = recall_score(y_test, y_pred_lr)\n",
    "f = fbeta_score(y_test, y_pred_lr, beta=2.0)\n",
    "print('Result: precision=%.3f, recall=%.3f, fscore=%.3f' % (p, r, f))"
   ]
  },
  {
   "attachments": {},
   "cell_type": "markdown",
   "metadata": {},
   "source": [
    "#### 2. AdaBoost Classifier"
   ]
  },
  {
   "cell_type": "code",
   "execution_count": 99,
   "metadata": {},
   "outputs": [],
   "source": [
    "ada_clf = AdaBoostClassifier(DecisionTreeClassifier(max_depth=1, class_weight='balanced'), n_estimators=200, algorithm=\"SAMME.R\", learning_rate=1)"
   ]
  },
  {
   "cell_type": "code",
   "execution_count": 100,
   "metadata": {},
   "outputs": [
    {
     "data": {
      "text/plain": [
       "AdaBoostClassifier(base_estimator=DecisionTreeClassifier(class_weight='balanced',\n",
       "                                                         max_depth=1),\n",
       "                   learning_rate=1, n_estimators=200)"
      ]
     },
     "execution_count": 100,
     "metadata": {},
     "output_type": "execute_result"
    }
   ],
   "source": [
    "ada_clf.fit(X_train_ad, y_train_ad)"
   ]
  },
  {
   "cell_type": "code",
   "execution_count": 101,
   "metadata": {},
   "outputs": [],
   "source": [
    "ada_predict = ada_clf.predict(X_test)"
   ]
  },
  {
   "cell_type": "code",
   "execution_count": 102,
   "metadata": {},
   "outputs": [
    {
     "name": "stdout",
     "output_type": "stream",
     "text": [
      "              precision    recall  f1-score   support\n",
      "\n",
      "           0       0.98      0.75      0.85    221355\n",
      "           1       0.12      0.67      0.20     10598\n",
      "\n",
      "    accuracy                           0.75    231953\n",
      "   macro avg       0.55      0.71      0.52    231953\n",
      "weighted avg       0.94      0.75      0.82    231953\n",
      "\n"
     ]
    }
   ],
   "source": [
    "print(classification_report(y_test,ada_predict))"
   ]
  },
  {
   "cell_type": "code",
   "execution_count": 103,
   "metadata": {},
   "outputs": [],
   "source": [
    "output = open('ada_boost_best.pkl', 'wb')\n",
    "pkl.dump(ada_clf, output)\n",
    "output.close()"
   ]
  },
  {
   "cell_type": "code",
   "execution_count": 113,
   "metadata": {},
   "outputs": [],
   "source": [
    "opt = GridSearchCV(\n",
    "    AdaBoostClassifier(random_state=42),\n",
    "    {\n",
    "        'n_estimators' : [100,150,200],\n",
    "        'learning_rate' : [0.05,0.5,1],\n",
    "    },\n",
    "    cv=3,\n",
    "    scoring='f1',\n",
    "    n_jobs=-1\n",
    ")"
   ]
  },
  {
   "cell_type": "code",
   "execution_count": 114,
   "metadata": {},
   "outputs": [
    {
     "data": {
      "text/plain": [
       "GridSearchCV(cv=3, estimator=AdaBoostClassifier(random_state=42), n_jobs=-1,\n",
       "             param_grid={'learning_rate': [0.05, 0.5, 1],\n",
       "                         'n_estimators': [100, 150, 200]},\n",
       "             scoring='f1')"
      ]
     },
     "execution_count": 114,
     "metadata": {},
     "output_type": "execute_result"
    }
   ],
   "source": [
    "opt.fit(X_train_ad, y_train_ad)"
   ]
  },
  {
   "cell_type": "code",
   "execution_count": 115,
   "metadata": {},
   "outputs": [
    {
     "data": {
      "text/plain": [
       "(AdaBoostClassifier(learning_rate=1, n_estimators=200, random_state=42),\n",
       " {'learning_rate': 1, 'n_estimators': 200},\n",
       " 0.7854653020107518)"
      ]
     },
     "execution_count": 115,
     "metadata": {},
     "output_type": "execute_result"
    }
   ],
   "source": [
    "opt.best_estimator_,opt.best_params_,opt.best_score_"
   ]
  },
  {
   "cell_type": "code",
   "execution_count": 116,
   "metadata": {},
   "outputs": [],
   "source": [
    "y_pred_ad = opt.predict(X_test)"
   ]
  },
  {
   "cell_type": "code",
   "execution_count": 153,
   "metadata": {},
   "outputs": [],
   "source": [
    "with open('best_adaboost_classifier.pkl', 'wb') as files:\n",
    "    pkl.dump(opt, files)"
   ]
  },
  {
   "cell_type": "code",
   "execution_count": 117,
   "metadata": {},
   "outputs": [
    {
     "name": "stdout",
     "output_type": "stream",
     "text": [
      "              precision    recall  f1-score   support\n",
      "\n",
      "           0       0.98      0.75      0.85    221355\n",
      "           1       0.12      0.67      0.20     10598\n",
      "\n",
      "    accuracy                           0.75    231953\n",
      "   macro avg       0.55      0.71      0.52    231953\n",
      "weighted avg       0.94      0.75      0.82    231953\n",
      "\n"
     ]
    }
   ],
   "source": [
    "print(classification_report(y_test,y_pred_ad))"
   ]
  },
  {
   "cell_type": "code",
   "execution_count": 118,
   "metadata": {},
   "outputs": [
    {
     "data": {
      "text/plain": [
       "0.7121"
      ]
     },
     "execution_count": 118,
     "metadata": {},
     "output_type": "execute_result"
    }
   ],
   "source": [
    "round(roc_auc_score(y_test, y_pred_ad),4)"
   ]
  },
  {
   "cell_type": "code",
   "execution_count": 122,
   "metadata": {},
   "outputs": [
    {
     "data": {
      "image/png": "[encoded data removed]",
      "text/plain": [
       "<Figure size 640x480 with 1 Axes>"
      ]
     },
     "metadata": {},
     "output_type": "display_data"
    }
   ],
   "source": [
    "ad_probs = opt.predict_proba(X_test)\n",
    "ad_probs = ad_probs[:, 1]\n",
    "ad_auc = roc_auc_score(y_test, ad_probs)\n",
    "fpr_lr, tpr_lr, _ = roc_curve(y_test, lr_probs)\n",
    "fpr_ad, tpr_ad, _ = roc_curve(y_test, ad_probs)\n",
    "plt.plot(fpr_lr, tpr_lr, marker='.', label='Logistic Regression')\n",
    "plt.plot(fpr_ad, tpr_ad, marker='.', label='AdaBoost Classifier')\n",
    "plt.xlabel('False Positive Rate')\n",
    "plt.ylabel('True Positive Rate')\n",
    "plt.legend()\n",
    "plt.show()"
   ]
  },
  {
   "cell_type": "code",
   "execution_count": 168,
   "metadata": {},
   "outputs": [
    {
     "name": "stdout",
     "output_type": "stream",
     "text": [
      "Result: precision=0.115, recall=0.671, fscore=0.342\n"
     ]
    }
   ],
   "source": [
    "p = precision_score(y_test, y_pred_ad)\n",
    "r = recall_score(y_test, y_pred_ad)\n",
    "f = fbeta_score(y_test, y_pred_ad, beta=2.0)\n",
    "print('Result: precision=%.3f, recall=%.3f, fscore=%.3f' % (p, r, f))"
   ]
  },
  {
   "attachments": {},
   "cell_type": "markdown",
   "metadata": {},
   "source": [
    "#### 3. Random Forest Classifier"
   ]
  },
  {
   "cell_type": "code",
   "execution_count": 127,
   "metadata": {},
   "outputs": [
    {
     "name": "stdout",
     "output_type": "stream",
     "text": [
      "Fitting 3 folds for each of 27 candidates, totalling 81 fits\n"
     ]
    },
    {
     "data": {
      "text/plain": [
       "GridSearchCV(cv=3,\n",
       "             estimator=RandomForestClassifier(class_weight='balanced',\n",
       "                                              min_samples_leaf=5),\n",
       "             n_jobs=-1,\n",
       "             param_grid={'max_depth': [10, 20, 50],\n",
       "                         'min_samples_leaf': [2, 5, 10],\n",
       "                         'n_estimators': [60, 100, 150]},\n",
       "             scoring='f1', verbose=1)"
      ]
     },
     "execution_count": 127,
     "metadata": {},
     "output_type": "execute_result"
    }
   ],
   "source": [
    "parameters = {\n",
    "    'max_depth' : [10,20,50],\n",
    "    'min_samples_leaf' : [2,5,10], \n",
    "    'n_estimators' : [60,100,150]\n",
    "}\n",
    "best_rf = GridSearchCV(estimator=RandomForestClassifier(n_estimators=100,\n",
    "                                               class_weight='balanced', min_samples_leaf =5), param_grid = parameters, verbose= 1, scoring= 'f1', cv = 3, n_jobs=-1)\n",
    "best_rf.fit(X_train_ad, y_train_ad)"
   ]
  },
  {
   "cell_type": "code",
   "execution_count": 128,
   "metadata": {},
   "outputs": [
    {
     "data": {
      "text/plain": [
       "(RandomForestClassifier(class_weight='balanced', max_depth=10,\n",
       "                        min_samples_leaf=2, n_estimators=60),\n",
       " {'max_depth': 10, 'min_samples_leaf': 2, 'n_estimators': 60},\n",
       " 0.7750516743774406)"
      ]
     },
     "execution_count": 128,
     "metadata": {},
     "output_type": "execute_result"
    }
   ],
   "source": [
    "best_rf.best_estimator_,best_rf.best_params_,best_rf.best_score_"
   ]
  },
  {
   "cell_type": "code",
   "execution_count": 129,
   "metadata": {},
   "outputs": [],
   "source": [
    "best_rf_final = RandomForestClassifier(class_weight='balanced', max_depth=10,\n",
    "                        min_samples_leaf=2, n_estimators=60)\n",
    "best_rf_final.fit(X_train_ad, y_train_ad)\n",
    "y_pred_rf = best_rf_final.predict(X_test)"
   ]
  },
  {
   "cell_type": "code",
   "execution_count": 148,
   "metadata": {},
   "outputs": [],
   "source": [
    "with open('best_random_forest.pkl', 'wb') as files:\n",
    "    pkl.dump(best_rf_final, files)"
   ]
  },
  {
   "cell_type": "code",
   "execution_count": 130,
   "metadata": {},
   "outputs": [
    {
     "name": "stdout",
     "output_type": "stream",
     "text": [
      "              precision    recall  f1-score   support\n",
      "\n",
      "           0       0.98      0.68      0.80    221355\n",
      "           1       0.10      0.74      0.17     10598\n",
      "\n",
      "    accuracy                           0.68    231953\n",
      "   macro avg       0.54      0.71      0.49    231953\n",
      "weighted avg       0.94      0.68      0.77    231953\n",
      "\n"
     ]
    }
   ],
   "source": [
    "print(classification_report(y_test, y_pred_rf))"
   ]
  },
  {
   "cell_type": "code",
   "execution_count": 131,
   "metadata": {},
   "outputs": [
    {
     "data": {
      "text/plain": [
       "0.7072"
      ]
     },
     "execution_count": 131,
     "metadata": {},
     "output_type": "execute_result"
    }
   ],
   "source": [
    "round(roc_auc_score(y_test, y_pred_rf),4)"
   ]
  },
  {
   "cell_type": "code",
   "execution_count": 133,
   "metadata": {},
   "outputs": [
    {
     "data": {
      "image/png": "[encoded data removed]",
      "text/plain": [
       "<Figure size 640x480 with 1 Axes>"
      ]
     },
     "metadata": {},
     "output_type": "display_data"
    }
   ],
   "source": [
    "rf_probs = best_rf_final.predict_proba(X_test)\n",
    "rf_probs = rf_probs[:, 1]\n",
    "rf_auc = roc_auc_score(y_test, rf_probs)\n",
    "fpr_lr, tpr_lr, _ = roc_curve(y_test, lr_probs)\n",
    "fpr_ad, tpr_ad, _ = roc_curve(y_test, ad_probs)\n",
    "fpr_rf, tpr_rf, _ = roc_curve(y_test, rf_probs)\n",
    "plt.plot(fpr_lr, tpr_lr, marker='.', label='Logistic Regression')\n",
    "plt.plot(fpr_ad, tpr_ad, marker='.', label='AdaBoost Classifier')\n",
    "plt.plot(fpr_rf, tpr_rf, marker='.', label='RF Classifier')\n",
    "plt.xlabel('False Positive Rate')\n",
    "plt.ylabel('True Positive Rate')\n",
    "plt.legend()\n",
    "plt.show()"
   ]
  },
  {
   "cell_type": "code",
   "execution_count": 169,
   "metadata": {},
   "outputs": [
    {
     "name": "stdout",
     "output_type": "stream",
     "text": [
      "Result: precision=0.098, recall=0.739, fscore=0.321\n"
     ]
    }
   ],
   "source": [
    "p = precision_score(y_test, y_pred_rf)\n",
    "r = recall_score(y_test, y_pred_rf)\n",
    "f = fbeta_score(y_test, y_pred_rf, beta=2.0)\n",
    "print('Result: precision=%.3f, recall=%.3f, fscore=%.3f' % (p, r, f))"
   ]
  },
  {
   "attachments": {},
   "cell_type": "markdown",
   "metadata": {},
   "source": [
    "#### 4. Catboost Classifier"
   ]
  },
  {
   "cell_type": "code",
   "execution_count": 137,
   "metadata": {},
   "outputs": [
    {
     "name": "stdout",
     "output_type": "stream",
     "text": [
      "0:\tlearn: 0.6255920\ttotal: 291ms\tremaining: 14.3s\n",
      "1:\tlearn: 0.5612429\ttotal: 445ms\tremaining: 10.7s\n",
      "2:\tlearn: 0.5079024\ttotal: 603ms\tremaining: 9.44s\n",
      "3:\tlearn: 0.4633710\ttotal: 768ms\tremaining: 8.83s\n",
      "4:\tlearn: 0.4223802\ttotal: 927ms\tremaining: 8.34s\n",
      "5:\tlearn: 0.3876194\ttotal: 1.07s\tremaining: 7.88s\n",
      "6:\tlearn: 0.3572322\ttotal: 1.26s\tremaining: 7.73s\n",
      "7:\tlearn: 0.3328810\ttotal: 1.39s\tremaining: 7.32s\n",
      "8:\tlearn: 0.3098854\ttotal: 1.54s\tremaining: 7.04s\n",
      "9:\tlearn: 0.2911361\ttotal: 1.69s\tremaining: 6.78s\n",
      "10:\tlearn: 0.2752276\ttotal: 1.86s\tremaining: 6.58s\n",
      "11:\tlearn: 0.2597750\ttotal: 2.04s\tremaining: 6.46s\n",
      "12:\tlearn: 0.2480553\ttotal: 2.22s\tremaining: 6.32s\n",
      "13:\tlearn: 0.2361678\ttotal: 2.39s\tremaining: 6.15s\n",
      "14:\tlearn: 0.2263501\ttotal: 2.55s\tremaining: 5.96s\n",
      "15:\tlearn: 0.2177717\ttotal: 2.72s\tremaining: 5.77s\n",
      "16:\tlearn: 0.2112115\ttotal: 2.88s\tremaining: 5.6s\n",
      "17:\tlearn: 0.2045866\ttotal: 3.03s\tremaining: 5.39s\n",
      "18:\tlearn: 0.1988526\ttotal: 3.2s\tremaining: 5.22s\n",
      "19:\tlearn: 0.1943330\ttotal: 3.35s\tremaining: 5.02s\n",
      "20:\tlearn: 0.1897201\ttotal: 3.5s\tremaining: 4.83s\n",
      "21:\tlearn: 0.1862747\ttotal: 3.65s\tremaining: 4.64s\n",
      "22:\tlearn: 0.1829048\ttotal: 3.8s\tremaining: 4.46s\n",
      "23:\tlearn: 0.1796373\ttotal: 3.96s\tremaining: 4.29s\n",
      "24:\tlearn: 0.1773281\ttotal: 4.08s\tremaining: 4.08s\n",
      "25:\tlearn: 0.1744920\ttotal: 4.24s\tremaining: 3.92s\n",
      "26:\tlearn: 0.1725138\ttotal: 4.39s\tremaining: 3.74s\n",
      "27:\tlearn: 0.1704130\ttotal: 4.53s\tremaining: 3.56s\n",
      "28:\tlearn: 0.1685783\ttotal: 4.67s\tremaining: 3.38s\n",
      "29:\tlearn: 0.1670121\ttotal: 4.82s\tremaining: 3.21s\n",
      "30:\tlearn: 0.1653571\ttotal: 4.98s\tremaining: 3.05s\n",
      "31:\tlearn: 0.1640280\ttotal: 5.12s\tremaining: 2.88s\n",
      "32:\tlearn: 0.1626609\ttotal: 5.27s\tremaining: 2.72s\n",
      "33:\tlearn: 0.1615900\ttotal: 5.42s\tremaining: 2.55s\n",
      "34:\tlearn: 0.1604556\ttotal: 5.58s\tremaining: 2.39s\n",
      "35:\tlearn: 0.1595194\ttotal: 5.73s\tremaining: 2.23s\n",
      "36:\tlearn: 0.1587509\ttotal: 5.89s\tremaining: 2.07s\n",
      "37:\tlearn: 0.1580864\ttotal: 6.04s\tremaining: 1.91s\n",
      "38:\tlearn: 0.1573242\ttotal: 6.21s\tremaining: 1.75s\n",
      "39:\tlearn: 0.1566034\ttotal: 6.36s\tremaining: 1.59s\n",
      "40:\tlearn: 0.1559938\ttotal: 6.5s\tremaining: 1.43s\n",
      "41:\tlearn: 0.1555063\ttotal: 6.65s\tremaining: 1.27s\n",
      "42:\tlearn: 0.1549520\ttotal: 6.78s\tremaining: 1.1s\n",
      "43:\tlearn: 0.1543435\ttotal: 6.94s\tremaining: 946ms\n",
      "44:\tlearn: 0.1538665\ttotal: 7.08s\tremaining: 786ms\n",
      "45:\tlearn: 0.1534565\ttotal: 7.22s\tremaining: 628ms\n",
      "46:\tlearn: 0.1528357\ttotal: 7.37s\tremaining: 471ms\n",
      "47:\tlearn: 0.1524674\ttotal: 7.52s\tremaining: 313ms\n",
      "48:\tlearn: 0.1520237\ttotal: 7.67s\tremaining: 157ms\n",
      "49:\tlearn: 0.1516898\ttotal: 7.82s\tremaining: 0us\n"
     ]
    },
    {
     "data": {
      "text/plain": [
       "GridSearchCV(cv=3,\n",
       "             estimator=<catboost.core.CatBoostClassifier object at 0x0000020BBDD9A650>,\n",
       "             n_jobs=-1,\n",
       "             param_grid={'depth': [5, 10, 15], 'iterations': [50, 100, 120],\n",
       "                         'learning_rate': [0.05, 0.1, 0.5]})"
      ]
     },
     "execution_count": 137,
     "metadata": {},
     "output_type": "execute_result"
    }
   ],
   "source": [
    "classes = np.unique(y_train)\n",
    "weights = compute_class_weight(class_weight='balanced', classes=classes, y=y_train)\n",
    "class_weights = dict(zip(classes, weights))\n",
    "CBC = CatBoostClassifier(class_weights=class_weights)\n",
    "parameters = {'depth'         : [5,10,15],\n",
    "              'learning_rate' : [0.05,0.1,0.5],\n",
    "              'iterations'    : [50,100,120]\n",
    "              }\n",
    "best_cbc = GridSearchCV(estimator=CBC, param_grid = parameters, cv = 3, n_jobs=-1)\n",
    "best_cbc.fit(X_train_ad, y_train_ad)"
   ]
  },
  {
   "cell_type": "code",
   "execution_count": 138,
   "metadata": {},
   "outputs": [
    {
     "name": "stdout",
     "output_type": "stream",
     "text": [
      "<catboost.core.CatBoostClassifier object at 0x0000020BE151AC50>\n",
      "0.5378611836637609\n",
      "{'depth': 5, 'iterations': 50, 'learning_rate': 0.05}\n"
     ]
    }
   ],
   "source": [
    "print(best_cbc.best_estimator_)\n",
    "print(best_cbc.best_score_)\n",
    "print(best_cbc.best_params_)"
   ]
  },
  {
   "cell_type": "code",
   "execution_count": 139,
   "metadata": {},
   "outputs": [
    {
     "name": "stdout",
     "output_type": "stream",
     "text": [
      "0:\tlearn: 0.5986951\ttotal: 144ms\tremaining: 7.08s\n",
      "1:\tlearn: 0.5669768\ttotal: 280ms\tremaining: 6.71s\n",
      "2:\tlearn: 0.5471699\ttotal: 429ms\tremaining: 6.72s\n",
      "3:\tlearn: 0.5315626\ttotal: 558ms\tremaining: 6.41s\n",
      "4:\tlearn: 0.5163274\ttotal: 689ms\tremaining: 6.2s\n",
      "5:\tlearn: 0.4991408\ttotal: 817ms\tremaining: 5.99s\n",
      "6:\tlearn: 0.4908108\ttotal: 949ms\tremaining: 5.83s\n",
      "7:\tlearn: 0.4844948\ttotal: 1.07s\tremaining: 5.63s\n",
      "8:\tlearn: 0.4782014\ttotal: 1.21s\tremaining: 5.49s\n",
      "9:\tlearn: 0.4733502\ttotal: 1.34s\tremaining: 5.35s\n",
      "10:\tlearn: 0.4675081\ttotal: 1.46s\tremaining: 5.19s\n",
      "11:\tlearn: 0.4625513\ttotal: 1.59s\tremaining: 5.04s\n",
      "12:\tlearn: 0.4585883\ttotal: 1.73s\tremaining: 4.92s\n",
      "13:\tlearn: 0.4541484\ttotal: 1.86s\tremaining: 4.79s\n",
      "14:\tlearn: 0.4513530\ttotal: 1.99s\tremaining: 4.65s\n",
      "15:\tlearn: 0.4481324\ttotal: 2.13s\tremaining: 4.52s\n",
      "16:\tlearn: 0.4424755\ttotal: 2.26s\tremaining: 4.39s\n",
      "17:\tlearn: 0.4393396\ttotal: 2.4s\tremaining: 4.26s\n",
      "18:\tlearn: 0.4373042\ttotal: 2.53s\tremaining: 4.12s\n",
      "19:\tlearn: 0.4348113\ttotal: 2.66s\tremaining: 3.99s\n",
      "20:\tlearn: 0.4332731\ttotal: 2.79s\tremaining: 3.85s\n",
      "21:\tlearn: 0.4299731\ttotal: 2.92s\tremaining: 3.71s\n",
      "22:\tlearn: 0.4271954\ttotal: 3.05s\tremaining: 3.58s\n",
      "23:\tlearn: 0.4237373\ttotal: 3.18s\tremaining: 3.45s\n",
      "24:\tlearn: 0.4213544\ttotal: 3.33s\tremaining: 3.33s\n",
      "25:\tlearn: 0.4195555\ttotal: 3.46s\tremaining: 3.19s\n",
      "26:\tlearn: 0.4161248\ttotal: 3.6s\tremaining: 3.07s\n",
      "27:\tlearn: 0.4150322\ttotal: 3.73s\tremaining: 2.93s\n",
      "28:\tlearn: 0.4136368\ttotal: 3.88s\tremaining: 2.81s\n",
      "29:\tlearn: 0.4128119\ttotal: 4.01s\tremaining: 2.67s\n",
      "30:\tlearn: 0.4115077\ttotal: 4.14s\tremaining: 2.54s\n",
      "31:\tlearn: 0.4081931\ttotal: 4.28s\tremaining: 2.41s\n",
      "32:\tlearn: 0.4072245\ttotal: 4.41s\tremaining: 2.27s\n",
      "33:\tlearn: 0.4043132\ttotal: 4.53s\tremaining: 2.13s\n",
      "34:\tlearn: 0.4028697\ttotal: 4.68s\tremaining: 2s\n",
      "35:\tlearn: 0.4022014\ttotal: 4.82s\tremaining: 1.87s\n",
      "36:\tlearn: 0.4005103\ttotal: 4.98s\tremaining: 1.75s\n",
      "37:\tlearn: 0.3996497\ttotal: 5.15s\tremaining: 1.63s\n",
      "38:\tlearn: 0.3990305\ttotal: 5.3s\tremaining: 1.49s\n",
      "39:\tlearn: 0.3984705\ttotal: 5.48s\tremaining: 1.37s\n",
      "40:\tlearn: 0.3975525\ttotal: 5.63s\tremaining: 1.24s\n",
      "41:\tlearn: 0.3968499\ttotal: 5.78s\tremaining: 1.1s\n",
      "42:\tlearn: 0.3963398\ttotal: 5.92s\tremaining: 963ms\n",
      "43:\tlearn: 0.3940369\ttotal: 6.07s\tremaining: 827ms\n",
      "44:\tlearn: 0.3933046\ttotal: 6.21s\tremaining: 689ms\n",
      "45:\tlearn: 0.3928423\ttotal: 6.33s\tremaining: 550ms\n",
      "46:\tlearn: 0.3924107\ttotal: 6.47s\tremaining: 413ms\n",
      "47:\tlearn: 0.3918584\ttotal: 6.6s\tremaining: 275ms\n",
      "48:\tlearn: 0.3913521\ttotal: 6.73s\tremaining: 137ms\n",
      "49:\tlearn: 0.3907919\ttotal: 6.86s\tremaining: 0us\n"
     ]
    }
   ],
   "source": [
    "best_cb = CatBoostClassifier(depth=5, iterations=50, learning_rate=0.5, random_state=42)\n",
    "best_cb.fit(X_train_ad, y_train_ad)\n",
    "y_pred_cb = best_cb.predict(X_test)"
   ]
  },
  {
   "cell_type": "code",
   "execution_count": 140,
   "metadata": {},
   "outputs": [
    {
     "name": "stdout",
     "output_type": "stream",
     "text": [
      "              precision    recall  f1-score   support\n",
      "\n",
      "           0       0.98      0.79      0.88    221355\n",
      "           1       0.12      0.61      0.21     10598\n",
      "\n",
      "    accuracy                           0.78    231953\n",
      "   macro avg       0.55      0.70      0.54    231953\n",
      "weighted avg       0.94      0.78      0.85    231953\n",
      "\n"
     ]
    }
   ],
   "source": [
    "print(classification_report(y_test, y_pred_cb))"
   ]
  },
  {
   "cell_type": "code",
   "execution_count": 141,
   "metadata": {},
   "outputs": [
    {
     "data": {
      "text/plain": [
       "0.7032"
      ]
     },
     "execution_count": 141,
     "metadata": {},
     "output_type": "execute_result"
    }
   ],
   "source": [
    "round(roc_auc_score(y_test, y_pred_cb),4)"
   ]
  },
  {
   "cell_type": "code",
   "execution_count": 142,
   "metadata": {},
   "outputs": [
    {
     "data": {
      "text/plain": [
       "0.7893709056926226"
      ]
     },
     "execution_count": 142,
     "metadata": {},
     "output_type": "execute_result"
    }
   ],
   "source": [
    "cb_probs = best_cb.predict_proba(X_test)\n",
    "cb_probs = cb_probs[:, 1]\n",
    "rf_auc = roc_auc_score(y_test, cb_probs)\n",
    "rf_auc"
   ]
  },
  {
   "cell_type": "code",
   "execution_count": 143,
   "metadata": {},
   "outputs": [
    {
     "name": "stdout",
     "output_type": "stream",
     "text": [
      "[[175571  45784]\n",
      " [  4098   6500]]\n"
     ]
    }
   ],
   "source": [
    "print(confusion_matrix(y_test, y_pred_cb))"
   ]
  },
  {
   "cell_type": "code",
   "execution_count": 144,
   "metadata": {},
   "outputs": [
    {
     "data": {
      "image/png": "[encoded data removed]",
      "text/plain": [
       "<Figure size 640x480 with 1 Axes>"
      ]
     },
     "metadata": {},
     "output_type": "display_data"
    }
   ],
   "source": [
    "cb_probs = best_cb.predict_proba(X_test)\n",
    "cb_probs = cb_probs[:, 1]\n",
    "cb_auc = roc_auc_score(y_test, cb_probs)\n",
    "fpr_lr, tpr_lr, _ = roc_curve(y_test, lr_probs)\n",
    "fpr_ad, tpr_ad, _ = roc_curve(y_test, ad_probs)\n",
    "fpr_cb, tpr_cb, _ = roc_curve(y_test, cb_probs)\n",
    "plt.plot(fpr_lr, tpr_lr, marker='.', label='Logistic Regression')\n",
    "plt.plot(fpr_ad, tpr_ad, marker='.', label='AdaBoost Classifier')\n",
    "plt.plot(fpr_cb, tpr_cb, marker='.', label='Caboost Classifier')\n",
    "plt.xlabel('False Positive Rate')\n",
    "plt.ylabel('True Positive Rate')\n",
    "plt.legend()\n",
    "plt.show()"
   ]
  },
  {
   "cell_type": "code",
   "execution_count": 149,
   "metadata": {},
   "outputs": [],
   "source": [
    "# Saving the model so as to not lose any progress\n",
    "with open('best_catboost_classifier_pkl', 'wb') as files:\n",
    "    pkl.dump(best_cb, files)"
   ]
  },
  {
   "cell_type": "code",
   "execution_count": 150,
   "metadata": {},
   "outputs": [],
   "source": [
    "with open('best_catboost_classifier_pkl', 'rb') as cb_file:\n",
    "    cb_saved = pkl.load(cb_file)"
   ]
  },
  {
   "cell_type": "code",
   "execution_count": 151,
   "metadata": {},
   "outputs": [
    {
     "data": {
      "text/plain": [
       "catboost.core.CatBoostClassifier"
      ]
     },
     "execution_count": 151,
     "metadata": {},
     "output_type": "execute_result"
    }
   ],
   "source": [
    "type(cb_saved)"
   ]
  },
  {
   "cell_type": "code",
   "execution_count": 170,
   "metadata": {},
   "outputs": [
    {
     "name": "stdout",
     "output_type": "stream",
     "text": [
      "Result: precision=0.124, recall=0.613, fscore=0.343\n"
     ]
    }
   ],
   "source": [
    "p = precision_score(y_test, y_pred_cb)\n",
    "r = recall_score(y_test, y_pred_cb)\n",
    "f = fbeta_score(y_test, y_pred_cb, beta=2.0)\n",
    "print('Result: precision=%.3f, recall=%.3f, fscore=%.3f' % (p, r, f))"
   ]
  },
  {
   "attachments": {},
   "cell_type": "markdown",
   "metadata": {},
   "source": [
    "#### 5. XGBClassifier"
   ]
  },
  {
   "cell_type": "code",
   "execution_count": 155,
   "metadata": {},
   "outputs": [
    {
     "data": {
      "text/plain": [
       "GridSearchCV(cv=3,\n",
       "             estimator=XGBClassifier(base_score=None, booster=None,\n",
       "                                     callbacks=None, colsample_bylevel=None,\n",
       "                                     colsample_bynode=None,\n",
       "                                     colsample_bytree=0.8,\n",
       "                                     early_stopping_rounds=None,\n",
       "                                     enable_categorical=False, eval_metric=None,\n",
       "                                     feature_types=None, gamma=0, gpu_id=None,\n",
       "                                     grow_policy=None, importance_type=None,\n",
       "                                     interaction_constraints=None,\n",
       "                                     learning_rate=0.1, max_bin=None,\n",
       "                                     max_cat_threshold=None,\n",
       "                                     max_cat_to_onehot=None,\n",
       "                                     max_delta_step=None, max_depth=5,\n",
       "                                     max_leaves=None, min_child_weight=1,\n",
       "                                     missing=nan, monotone_constraints=None,\n",
       "                                     n_estimators=140, n_jobs=None, nthread=4,\n",
       "                                     num_parallel_tree=None, predictor=None, ...),\n",
       "             n_jobs=-1,\n",
       "             param_grid={'max_depth': range(3, 10, 2),\n",
       "                         'min_child_weight': range(1, 6, 2)},\n",
       "             scoring='f1')"
      ]
     },
     "execution_count": 155,
     "metadata": {},
     "output_type": "execute_result"
    }
   ],
   "source": [
    "param_test1 = {\n",
    " 'max_depth':range(3,10,2),\n",
    " 'min_child_weight':range(1,6,2)\n",
    "}\n",
    "xgb1 = GridSearchCV(estimator = XGBClassifier( learning_rate =0.1, n_estimators=140, max_depth=5,\n",
    " min_child_weight=1, gamma=0, subsample=0.8, colsample_bytree=0.8,\n",
    " objective= 'binary:logistic', nthread=4, scale_pos_weight=1, seed=27), \n",
    " param_grid = param_test1, scoring='f1',n_jobs=-1, cv=3)\n",
    "xgb1.fit(X_train_ad,y_train_ad)"
   ]
  },
  {
   "cell_type": "code",
   "execution_count": 156,
   "metadata": {},
   "outputs": [
    {
     "data": {
      "text/plain": [
       "({'max_depth': 9, 'min_child_weight': 1}, 0.8489665833582226)"
      ]
     },
     "execution_count": 156,
     "metadata": {},
     "output_type": "execute_result"
    }
   ],
   "source": [
    "xgb1.best_params_, xgb1.best_score_"
   ]
  },
  {
   "cell_type": "code",
   "execution_count": null,
   "metadata": {},
   "outputs": [
    {
     "data": {
      "text/html": [
       "<style>#sk-container-id-7 {color: black;background-color: white;}#sk-container-id-7 pre{padding: 0;}#sk-container-id-7 div.sk-toggleable {background-color: white;}#sk-container-id-7 label.sk-toggleable__label {cursor: pointer;display: block;width: 100%;margin-bottom: 0;padding: 0.3em;box-sizing: border-box;text-align: center;}#sk-container-id-7 label.sk-toggleable__label-arrow:before {content: \"▸\";float: left;margin-right: 0.25em;color: #696969;}#sk-container-id-7 label.sk-toggleable__label-arrow:hover:before {color: black;}#sk-container-id-7 div.sk-estimator:hover label.sk-toggleable__label-arrow:before {color: black;}#sk-container-id-7 div.sk-toggleable__content {max-height: 0;max-width: 0;overflow: hidden;text-align: left;background-color: #f0f8ff;}#sk-container-id-7 div.sk-toggleable__content pre {margin: 0.2em;color: black;border-radius: 0.25em;background-color: #f0f8ff;}#sk-container-id-7 input.sk-toggleable__control:checked~div.sk-toggleable__content {max-height: 200px;max-width: 100%;overflow: auto;}#sk-container-id-7 input.sk-toggleable__control:checked~label.sk-toggleable__label-arrow:before {content: \"▾\";}#sk-container-id-7 div.sk-estimator input.sk-toggleable__control:checked~label.sk-toggleable__label {background-color: #d4ebff;}#sk-container-id-7 div.sk-label input.sk-toggleable__control:checked~label.sk-toggleable__label {background-color: #d4ebff;}#sk-container-id-7 input.sk-hidden--visually {border: 0;clip: rect(1px 1px 1px 1px);clip: rect(1px, 1px, 1px, 1px);height: 1px;margin: -1px;overflow: hidden;padding: 0;position: absolute;width: 1px;}#sk-container-id-7 div.sk-estimator {font-family: monospace;background-color: #f0f8ff;border: 1px dotted black;border-radius: 0.25em;box-sizing: border-box;margin-bottom: 0.5em;}#sk-container-id-7 div.sk-estimator:hover {background-color: #d4ebff;}#sk-container-id-7 div.sk-parallel-item::after {content: \"\";width: 100%;border-bottom: 1px solid gray;flex-grow: 1;}#sk-container-id-7 div.sk-label:hover label.sk-toggleable__label {background-color: #d4ebff;}#sk-container-id-7 div.sk-serial::before {content: \"\";position: absolute;border-left: 1px solid gray;box-sizing: border-box;top: 0;bottom: 0;left: 50%;z-index: 0;}#sk-container-id-7 div.sk-serial {display: flex;flex-direction: column;align-items: center;background-color: white;padding-right: 0.2em;padding-left: 0.2em;position: relative;}#sk-container-id-7 div.sk-item {position: relative;z-index: 1;}#sk-container-id-7 div.sk-parallel {display: flex;align-items: stretch;justify-content: center;background-color: white;position: relative;}#sk-container-id-7 div.sk-item::before, #sk-container-id-7 div.sk-parallel-item::before {content: \"\";position: absolute;border-left: 1px solid gray;box-sizing: border-box;top: 0;bottom: 0;left: 50%;z-index: -1;}#sk-container-id-7 div.sk-parallel-item {display: flex;flex-direction: column;z-index: 1;position: relative;background-color: white;}#sk-container-id-7 div.sk-parallel-item:first-child::after {align-self: flex-end;width: 50%;}#sk-container-id-7 div.sk-parallel-item:last-child::after {align-self: flex-start;width: 50%;}#sk-container-id-7 div.sk-parallel-item:only-child::after {width: 0;}#sk-container-id-7 div.sk-dashed-wrapped {border: 1px dashed gray;margin: 0 0.4em 0.5em 0.4em;box-sizing: border-box;padding-bottom: 0.4em;background-color: white;}#sk-container-id-7 div.sk-label label {font-family: monospace;font-weight: bold;display: inline-block;line-height: 1.2em;}#sk-container-id-7 div.sk-label-container {text-align: center;}#sk-container-id-7 div.sk-container {/* jupyter's `normalize.less` sets `[hidden] { display: none; }` but bootstrap.min.css set `[hidden] { display: none !important; }` so we also need the `!important` here to be able to override the default hidden behavior on the sphinx rendered scikit-learn.org. See: https://github.com/scikit-learn/scikit-learn/issues/21755 */display: inline-block !important;position: relative;}#sk-container-id-7 div.sk-text-repr-fallback {display: none;}</style><div id=\"sk-container-id-7\" class=\"sk-top-container\"><div class=\"sk-text-repr-fallback\"><pre>GridSearchCV(cv=5,\n",
       "             estimator=XGBClassifier(base_score=None, booster=None,\n",
       "                                     callbacks=None, colsample_bylevel=None,\n",
       "                                     colsample_bynode=None,\n",
       "                                     colsample_bytree=0.8,\n",
       "                                     early_stopping_rounds=None,\n",
       "                                     enable_categorical=False, eval_metric=None,\n",
       "                                     feature_types=None, gamma=0, gpu_id=None,\n",
       "                                     grow_policy=None, importance_type=None,\n",
       "                                     interaction_constraints=None,\n",
       "                                     learning_rate=0.1, max_bin=None,\n",
       "                                     max_cat_threshold=None,\n",
       "                                     max_cat_to_onehot=None,\n",
       "                                     max_delta_step=None, max_depth=9,\n",
       "                                     max_leaves=None, min_child_weight=1,\n",
       "                                     missing=nan, monotone_constraints=None,\n",
       "                                     n_estimators=140, n_jobs=None, nthread=4,\n",
       "                                     num_parallel_tree=None, predictor=None, ...),\n",
       "             n_jobs=4, param_grid={&#x27;max_depth&#x27;: [11, 12, 13]},\n",
       "             scoring=&#x27;roc_auc&#x27;)</pre><b>In a Jupyter environment, please rerun this cell to show the HTML representation or trust the notebook. <br />On GitHub, the HTML representation is unable to render, please try loading this page with nbviewer.org.</b></div><div class=\"sk-container\" hidden><div class=\"sk-item sk-dashed-wrapped\"><div class=\"sk-label-container\"><div class=\"sk-label sk-toggleable\"><input class=\"sk-toggleable__control sk-hidden--visually\" id=\"sk-estimator-id-19\" type=\"checkbox\" ><label for=\"sk-estimator-id-19\" class=\"sk-toggleable__label sk-toggleable__label-arrow\">GridSearchCV</label><div class=\"sk-toggleable__content\"><pre>GridSearchCV(cv=5,\n",
       "             estimator=XGBClassifier(base_score=None, booster=None,\n",
       "                                     callbacks=None, colsample_bylevel=None,\n",
       "                                     colsample_bynode=None,\n",
       "                                     colsample_bytree=0.8,\n",
       "                                     early_stopping_rounds=None,\n",
       "                                     enable_categorical=False, eval_metric=None,\n",
       "                                     feature_types=None, gamma=0, gpu_id=None,\n",
       "                                     grow_policy=None, importance_type=None,\n",
       "                                     interaction_constraints=None,\n",
       "                                     learning_rate=0.1, max_bin=None,\n",
       "                                     max_cat_threshold=None,\n",
       "                                     max_cat_to_onehot=None,\n",
       "                                     max_delta_step=None, max_depth=9,\n",
       "                                     max_leaves=None, min_child_weight=1,\n",
       "                                     missing=nan, monotone_constraints=None,\n",
       "                                     n_estimators=140, n_jobs=None, nthread=4,\n",
       "                                     num_parallel_tree=None, predictor=None, ...),\n",
       "             n_jobs=4, param_grid={&#x27;max_depth&#x27;: [11, 12, 13]},\n",
       "             scoring=&#x27;roc_auc&#x27;)</pre></div></div></div><div class=\"sk-parallel\"><div class=\"sk-parallel-item\"><div class=\"sk-item\"><div class=\"sk-label-container\"><div class=\"sk-label sk-toggleable\"><input class=\"sk-toggleable__control sk-hidden--visually\" id=\"sk-estimator-id-20\" type=\"checkbox\" ><label for=\"sk-estimator-id-20\" class=\"sk-toggleable__label sk-toggleable__label-arrow\">estimator: XGBClassifier</label><div class=\"sk-toggleable__content\"><pre>XGBClassifier(base_score=None, booster=None, callbacks=None,\n",
       "              colsample_bylevel=None, colsample_bynode=None,\n",
       "              colsample_bytree=0.8, early_stopping_rounds=None,\n",
       "              enable_categorical=False, eval_metric=None, feature_types=None,\n",
       "              gamma=0, gpu_id=None, grow_policy=None, importance_type=None,\n",
       "              interaction_constraints=None, learning_rate=0.1, max_bin=None,\n",
       "              max_cat_threshold=None, max_cat_to_onehot=None,\n",
       "              max_delta_step=None, max_depth=9, max_leaves=None,\n",
       "              min_child_weight=1, missing=nan, monotone_constraints=None,\n",
       "              n_estimators=140, n_jobs=None, nthread=4, num_parallel_tree=None,\n",
       "              predictor=None, ...)</pre></div></div></div><div class=\"sk-serial\"><div class=\"sk-item\"><div class=\"sk-estimator sk-toggleable\"><input class=\"sk-toggleable__control sk-hidden--visually\" id=\"sk-estimator-id-21\" type=\"checkbox\" ><label for=\"sk-estimator-id-21\" class=\"sk-toggleable__label sk-toggleable__label-arrow\">XGBClassifier</label><div class=\"sk-toggleable__content\"><pre>XGBClassifier(base_score=None, booster=None, callbacks=None,\n",
       "              colsample_bylevel=None, colsample_bynode=None,\n",
       "              colsample_bytree=0.8, early_stopping_rounds=None,\n",
       "              enable_categorical=False, eval_metric=None, feature_types=None,\n",
       "              gamma=0, gpu_id=None, grow_policy=None, importance_type=None,\n",
       "              interaction_constraints=None, learning_rate=0.1, max_bin=None,\n",
       "              max_cat_threshold=None, max_cat_to_onehot=None,\n",
       "              max_delta_step=None, max_depth=9, max_leaves=None,\n",
       "              min_child_weight=1, missing=nan, monotone_constraints=None,\n",
       "              n_estimators=140, n_jobs=None, nthread=4, num_parallel_tree=None,\n",
       "              predictor=None, ...)</pre></div></div></div></div></div></div></div></div></div></div>"
      ],
      "text/plain": [
       "GridSearchCV(cv=5,\n",
       "             estimator=XGBClassifier(base_score=None, booster=None,\n",
       "                                     callbacks=None, colsample_bylevel=None,\n",
       "                                     colsample_bynode=None,\n",
       "                                     colsample_bytree=0.8,\n",
       "                                     early_stopping_rounds=None,\n",
       "                                     enable_categorical=False, eval_metric=None,\n",
       "                                     feature_types=None, gamma=0, gpu_id=None,\n",
       "                                     grow_policy=None, importance_type=None,\n",
       "                                     interaction_constraints=None,\n",
       "                                     learning_rate=0.1, max_bin=None,\n",
       "                                     max_cat_threshold=None,\n",
       "                                     max_cat_to_onehot=None,\n",
       "                                     max_delta_step=None, max_depth=9,\n",
       "                                     max_leaves=None, min_child_weight=1,\n",
       "                                     missing=nan, monotone_constraints=None,\n",
       "                                     n_estimators=140, n_jobs=None, nthread=4,\n",
       "                                     num_parallel_tree=None, predictor=None, ...),\n",
       "             n_jobs=4, param_grid={'max_depth': [11, 12, 13]},\n",
       "             scoring='roc_auc')"
      ]
     },
     "execution_count": 240,
     "metadata": {},
     "output_type": "execute_result"
    }
   ],
   "source": [
    "param_test_2 = {\n",
    " 'max_depth':range(3,10,2),\n",
    " 'min_child_weight':range(1,6,2)\n",
    "}\n",
    "xgb2 = GridSearchCV(estimator = XGBClassifier( learning_rate =0.1, n_estimators=140, max_depth=9,\n",
    " min_child_weight=1, gamma=0, subsample=0.8, colsample_bytree=0.8,\n",
    " objective= 'binary:logistic', nthread=4, scale_pos_weight=1, seed=27), \n",
    " param_grid = param_test_2, scoring='roc_auc',n_jobs=-1, cv=5)\n",
    "xgb2.fit(X_train_ad,y_train_ad)"
   ]
  },
  {
   "cell_type": "code",
   "execution_count": null,
   "metadata": {},
   "outputs": [
    {
     "data": {
      "text/plain": [
       "({'max_depth': 13}, 0.9913610873981653)"
      ]
     },
     "execution_count": 241,
     "metadata": {},
     "output_type": "execute_result"
    }
   ],
   "source": [
    "xgb2.best_params_, xgb2.best_score_"
   ]
  },
  {
   "cell_type": "code",
   "execution_count": 158,
   "metadata": {},
   "outputs": [
    {
     "data": {
      "text/plain": [
       "XGBClassifier(base_score=None, booster=None, callbacks=None,\n",
       "              colsample_bylevel=None, colsample_bynode=None,\n",
       "              colsample_bytree=0.8, early_stopping_rounds=None,\n",
       "              enable_categorical=False, eval_metric=None, feature_types=None,\n",
       "              gamma=0, gpu_id=None, grow_policy=None, importance_type=None,\n",
       "              interaction_constraints=None, learning_rate=0.1, max_bin=None,\n",
       "              max_cat_threshold=None, max_cat_to_onehot=None,\n",
       "              max_delta_step=None, max_depth=9, max_leaves=None,\n",
       "              min_child_weight=1, missing=nan, monotone_constraints=None,\n",
       "              n_estimators=140, n_jobs=None, nthread=4, num_parallel_tree=None,\n",
       "              predictor=None, ...)"
      ]
     },
     "execution_count": 158,
     "metadata": {},
     "output_type": "execute_result"
    }
   ],
   "source": [
    "best_xgb = XGBClassifier( learning_rate =0.1, n_estimators=140, max_depth=9,\n",
    " min_child_weight=1, gamma=0, subsample=0.8, colsample_bytree=0.8,\n",
    " objective= 'binary:logistic', nthread=4, scale_pos_weight=5, seed=27)\n",
    "best_xgb.fit(X_train_ad, y_train_ad)"
   ]
  },
  {
   "cell_type": "code",
   "execution_count": 159,
   "metadata": {},
   "outputs": [],
   "source": [
    "y_pred_xgb = best_xgb.predict(X_test)"
   ]
  },
  {
   "cell_type": "code",
   "execution_count": 160,
   "metadata": {},
   "outputs": [
    {
     "name": "stdout",
     "output_type": "stream",
     "text": [
      "[[126006  95349]\n",
      " [  1563   9035]]\n"
     ]
    }
   ],
   "source": [
    "print(confusion_matrix(y_test, y_pred_xgb))"
   ]
  },
  {
   "cell_type": "code",
   "execution_count": 161,
   "metadata": {},
   "outputs": [
    {
     "name": "stdout",
     "output_type": "stream",
     "text": [
      "              precision    recall  f1-score   support\n",
      "\n",
      "           0       0.99      0.57      0.72    221355\n",
      "           1       0.09      0.85      0.16     10598\n",
      "\n",
      "    accuracy                           0.58    231953\n",
      "   macro avg       0.54      0.71      0.44    231953\n",
      "weighted avg       0.95      0.58      0.70    231953\n",
      "\n"
     ]
    }
   ],
   "source": [
    "print(classification_report(y_test, y_pred_xgb))"
   ]
  },
  {
   "cell_type": "code",
   "execution_count": 163,
   "metadata": {},
   "outputs": [
    {
     "data": {
      "text/plain": [
       "0.7938383863417626"
      ]
     },
     "execution_count": 163,
     "metadata": {},
     "output_type": "execute_result"
    }
   ],
   "source": [
    "xgb_probs = best_xgb.predict_proba(X_test)\n",
    "xgb_probs = xgb_probs[:, 1]\n",
    "xgb_auc = roc_auc_score(y_test, xgb_probs)\n",
    "xgb_auc"
   ]
  },
  {
   "cell_type": "code",
   "execution_count": 162,
   "metadata": {},
   "outputs": [
    {
     "data": {
      "image/png": "[encoded data removed]",
      "text/plain": [
       "<Figure size 640x480 with 1 Axes>"
      ]
     },
     "metadata": {},
     "output_type": "display_data"
    }
   ],
   "source": [
    "xgb_probs = best_xgb.predict_proba(X_test)\n",
    "xgb_probs = xgb_probs[:, 1]\n",
    "xgb_auc = roc_auc_score(y_test, xgb_probs)\n",
    "fpr_xg, tpr_xg, _ = roc_curve(y_test, xgb_probs)\n",
    "fpr_lr, tpr_lr, _ = roc_curve(y_test, lr_probs)\n",
    "fpr_ad, tpr_ad, _ = roc_curve(y_test, ad_probs)\n",
    "fpr_cb, tpr_cb, _ = roc_curve(y_test, cb_probs)\n",
    "plt.plot(fpr_lr, tpr_lr, marker='.', label='Logistic Regression')\n",
    "plt.plot(fpr_ad, tpr_ad, marker='.', label='AdaBoost Classifier')\n",
    "plt.plot(fpr_cb, tpr_cb, marker='.', label='Caboost Classifier')\n",
    "plt.plot(fpr_xg, tpr_xg, marker='.', label='XGBoost Classifier')\n",
    "plt.xlabel('False Positive Rate')\n",
    "plt.ylabel('True Positive Rate')\n",
    "plt.legend()\n",
    "plt.show()"
   ]
  },
  {
   "cell_type": "code",
   "execution_count": 164,
   "metadata": {},
   "outputs": [],
   "source": [
    "# Saving the model so as to not lose any progress\n",
    "with open('best_xgboost_pkl', 'wb') as files:\n",
    "    pkl.dump(best_xgb, files)"
   ]
  },
  {
   "cell_type": "code",
   "execution_count": 171,
   "metadata": {},
   "outputs": [
    {
     "name": "stdout",
     "output_type": "stream",
     "text": [
      "Result: precision=0.087, recall=0.853, fscore=0.308\n"
     ]
    }
   ],
   "source": [
    "p = precision_score(y_test, y_pred_xgb)\n",
    "r = recall_score(y_test, y_pred_xgb)\n",
    "f = fbeta_score(y_test, y_pred_xgb, beta=2.0)\n",
    "print('Result: precision=%.3f, recall=%.3f, fscore=%.3f' % (p, r, f))"
   ]
  },
  {
   "attachments": {},
   "cell_type": "markdown",
   "metadata": {},
   "source": [
    "#### Conclusions:\n",
    "1. Performed resampling using ADASYN as the other methods didn't show significantly high results and it was faster to compute.\n",
    "2. Out of 5 different classifiers, CatBoost outperformed all of them with higher F1 score.\n",
    "3. Hyperparameter tuning using gridsearch cv helped in figuring out the best parameters needed for classifying. \n",
    "4. Boosting methods can be helpful to handle in case of imbalanced class problems as it gives an edge of penalizing the model for every misclassification for minority class.\n",
    "5. Recall is an appropriate metric other than F1 score as we could afford an unpopular song getting predicted as popular but a hit shouldn't be classified as unpopular.\n",
    "6. This is helpful in cases where the music industry members want to verify how the track will perform.\n",
    "\n",
    "#### Future Scope:\n",
    "<p>We can get the lyrics and use techniques of NLP to further enhance the model. It is observed that the songs with an explicit content tend to have high popularity and this would be a good approach to further classify our songs.</p>"
   ]
  }
 ],
 "metadata": {
  "kernelspec": {
   "display_name": "Python 3",
   "language": "python",
   "name": "python3"
  },
  "language_info": {
   "codemirror_mode": {
    "name": "ipython",
    "version": 3
   },
   "file_extension": ".py",
   "mimetype": "text/x-python",
   "name": "python",
   "nbconvert_exporter": "python",
   "pygments_lexer": "ipython3",
   "version": "3.10.7"
  },
  "orig_nbformat": 4,
  "vscode": {
   "interpreter": {
    "hash": "01ab15f85e895dee4dd2d3ffd8ae6dee05b3876fe0ae336a58875a82f31f6a7b"
   }
  }
 },
 "nbformat": 4,
 "nbformat_minor": 2
}
